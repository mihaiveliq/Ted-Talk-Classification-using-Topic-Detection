{
  "nbformat": 4,
  "nbformat_minor": 0,
  "metadata": {
    "colab": {
      "provenance": []
    },
    "kernelspec": {
      "name": "python3",
      "display_name": "Python 3"
    },
    "language_info": {
      "name": "python"
    }
  },
  "cells": [
    {
      "cell_type": "code",
      "execution_count": 1,
      "metadata": {
        "id": "l_pzMOdFn1bg"
      },
      "outputs": [],
      "source": [
        "import gensim"
      ]
    },
    {
      "cell_type": "code",
      "source": [
        "import pandas as pd"
      ],
      "metadata": {
        "id": "C2cdcZap5ShV"
      },
      "execution_count": 2,
      "outputs": []
    },
    {
      "cell_type": "code",
      "source": [
        "# owentemple_data = pd.read_csv(\"TED_Talks_by_ID_plus-transcripts-and-LIWC-and-MFT-plus-views.csv\")"
      ],
      "metadata": {
        "id": "_YnkJk0I5qRi"
      },
      "execution_count": 3,
      "outputs": []
    },
    {
      "cell_type": "code",
      "source": [
        "kaggle_data = pd.read_csv(\"ted_main.csv\")"
      ],
      "metadata": {
        "id": "4X9qyp2_6KRN"
      },
      "execution_count": 182,
      "outputs": []
    },
    {
      "cell_type": "code",
      "source": [
        "print(kaggle_data)"
      ],
      "metadata": {
        "colab": {
          "base_uri": "https://localhost:8080/"
        },
        "id": "XLvYp9Fg8LnL",
        "outputId": "64aa557c-ce78-4c57-f041-624c2d6bb46a"
      },
      "execution_count": 183,
      "outputs": [
        {
          "output_type": "stream",
          "name": "stdout",
          "text": [
            "      comments                                        description  duration  \\\n",
            "0         4553  Sir Ken Robinson makes an entertaining and pro...      1164   \n",
            "1          265  With the same humor and humanity he exuded in ...       977   \n",
            "2          124  New York Times columnist David Pogue takes aim...      1286   \n",
            "3          200  In an emotionally charged talk, MacArthur-winn...      1116   \n",
            "4          593  You've never seen data presented like this. Wi...      1190   \n",
            "...        ...                                                ...       ...   \n",
            "2545        17  Between 2008 and 2016, the United States depor...       476   \n",
            "2546         6  How can you study Mars without a spaceship? He...       290   \n",
            "2547        10  Science fiction visions of the future show us ...       651   \n",
            "2548        32  In an unmissable talk about race and politics ...      1100   \n",
            "2549         8  With more than half of the world population li...       519   \n",
            "\n",
            "             event   film_date  languages         main_speaker  \\\n",
            "0          TED2006  1140825600         60         Ken Robinson   \n",
            "1          TED2006  1140825600         43              Al Gore   \n",
            "2          TED2006  1140739200         26          David Pogue   \n",
            "3          TED2006  1140912000         35        Majora Carter   \n",
            "4          TED2006  1140566400         48         Hans Rosling   \n",
            "...            ...         ...        ...                  ...   \n",
            "2545       TED2017  1496707200          4     Duarte Geraldino   \n",
            "2546       TED2017  1492992000          3  Armando Azua-Bustos   \n",
            "2547       TED2017  1492992000          1       Radhika Nagpal   \n",
            "2548  TEDxMileHigh  1499472000          1     Theo E.J. Wilson   \n",
            "2549       TED2017  1492992000          1    Karoliina Korppoo   \n",
            "\n",
            "                                                   name  num_speaker  \\\n",
            "0             Ken Robinson: Do schools kill creativity?            1   \n",
            "1                  Al Gore: Averting the climate crisis            1   \n",
            "2                         David Pogue: Simplicity sells            1   \n",
            "3                    Majora Carter: Greening the ghetto            1   \n",
            "4         Hans Rosling: The best stats you've ever seen            1   \n",
            "...                                                 ...          ...   \n",
            "2545  Duarte Geraldino: What we're missing in the de...            1   \n",
            "2546  Armando Azua-Bustos: The most Martian place on...            1   \n",
            "2547  Radhika Nagpal: What intelligent machines can ...            1   \n",
            "2548  Theo E.J. Wilson: A black man goes undercover ...            1   \n",
            "2549  Karoliina Korppoo: How a video game might help...            1   \n",
            "\n",
            "      published_date                                            ratings  \\\n",
            "0         1151367060  [{'id': 7, 'name': 'Funny', 'count': 19645}, {...   \n",
            "1         1151367060  [{'id': 7, 'name': 'Funny', 'count': 544}, {'i...   \n",
            "2         1151367060  [{'id': 7, 'name': 'Funny', 'count': 964}, {'i...   \n",
            "3         1151367060  [{'id': 3, 'name': 'Courageous', 'count': 760}...   \n",
            "4         1151440680  [{'id': 9, 'name': 'Ingenious', 'count': 3202}...   \n",
            "...              ...                                                ...   \n",
            "2545      1505851216  [{'id': 3, 'name': 'Courageous', 'count': 24},...   \n",
            "2546      1505919737  [{'id': 22, 'name': 'Fascinating', 'count': 32...   \n",
            "2547      1506006095  [{'id': 1, 'name': 'Beautiful', 'count': 14}, ...   \n",
            "2548      1506024042  [{'id': 11, 'name': 'Longwinded', 'count': 3},...   \n",
            "2549      1506092422  [{'id': 21, 'name': 'Unconvincing', 'count': 2...   \n",
            "\n",
            "                                          related_talks  \\\n",
            "0     [{'id': 865, 'hero': 'https://pe.tedcdn.com/im...   \n",
            "1     [{'id': 243, 'hero': 'https://pe.tedcdn.com/im...   \n",
            "2     [{'id': 1725, 'hero': 'https://pe.tedcdn.com/i...   \n",
            "3     [{'id': 1041, 'hero': 'https://pe.tedcdn.com/i...   \n",
            "4     [{'id': 2056, 'hero': 'https://pe.tedcdn.com/i...   \n",
            "...                                                 ...   \n",
            "2545  [{'id': 2596, 'hero': 'https://pe.tedcdn.com/i...   \n",
            "2546  [{'id': 2491, 'hero': 'https://pe.tedcdn.com/i...   \n",
            "2547  [{'id': 2346, 'hero': 'https://pe.tedcdn.com/i...   \n",
            "2548  [{'id': 2512, 'hero': 'https://pe.tedcdn.com/i...   \n",
            "2549  [{'id': 2682, 'hero': 'https://pe.tedcdn.com/i...   \n",
            "\n",
            "                        speaker_occupation  \\\n",
            "0                          Author/educator   \n",
            "1                         Climate advocate   \n",
            "2                     Technology columnist   \n",
            "3       Activist for environmental justice   \n",
            "4     Global health expert; data visionary   \n",
            "...                                    ...   \n",
            "2545                            Journalist   \n",
            "2546                        Astrobiologist   \n",
            "2547                     Robotics engineer   \n",
            "2548                   Public intellectual   \n",
            "2549                         Game designer   \n",
            "\n",
            "                                                   tags  \\\n",
            "0     ['children', 'creativity', 'culture', 'dance',...   \n",
            "1     ['alternative energy', 'cars', 'climate change...   \n",
            "2     ['computers', 'entertainment', 'interface desi...   \n",
            "3     ['MacArthur grant', 'activism', 'business', 'c...   \n",
            "4     ['Africa', 'Asia', 'Google', 'demo', 'economic...   \n",
            "...                                                 ...   \n",
            "2545  ['TED Residency', 'United States', 'community'...   \n",
            "2546  ['Mars', 'South America', 'TED Fellows', 'astr...   \n",
            "2547  ['AI', 'ants', 'fish', 'future', 'innovation',...   \n",
            "2548  ['Internet', 'TEDx', 'United States', 'communi...   \n",
            "2549  ['cities', 'design', 'future', 'infrastructure...   \n",
            "\n",
            "                                                  title  \\\n",
            "0                           Do schools kill creativity?   \n",
            "1                           Averting the climate crisis   \n",
            "2                                      Simplicity sells   \n",
            "3                                   Greening the ghetto   \n",
            "4                       The best stats you've ever seen   \n",
            "...                                                 ...   \n",
            "2545  What we're missing in the debate about immigra...   \n",
            "2546                    The most Martian place on Earth   \n",
            "2547  What intelligent machines can learn from a sch...   \n",
            "2548       A black man goes undercover in the alt-right   \n",
            "2549  How a video game might help us build better ci...   \n",
            "\n",
            "                                                    url     views  \n",
            "0     https://www.ted.com/talks/ken_robinson_says_sc...  47227110  \n",
            "1     https://www.ted.com/talks/al_gore_on_averting_...   3200520  \n",
            "2     https://www.ted.com/talks/david_pogue_says_sim...   1636292  \n",
            "3     https://www.ted.com/talks/majora_carter_s_tale...   1697550  \n",
            "4     https://www.ted.com/talks/hans_rosling_shows_t...  12005869  \n",
            "...                                                 ...       ...  \n",
            "2545  https://www.ted.com/talks/duarte_geraldino_wha...    450430  \n",
            "2546  https://www.ted.com/talks/armando_azua_bustos_...    417470  \n",
            "2547  https://www.ted.com/talks/radhika_nagpal_what_...    375647  \n",
            "2548  https://www.ted.com/talks/theo_e_j_wilson_a_bl...    419309  \n",
            "2549  https://www.ted.com/talks/karoliina_korppoo_ho...    391721  \n",
            "\n",
            "[2550 rows x 17 columns]\n"
          ]
        }
      ]
    },
    {
      "cell_type": "code",
      "source": [
        "print(kaggle_data.columns)"
      ],
      "metadata": {
        "colab": {
          "base_uri": "https://localhost:8080/"
        },
        "id": "YZnHSDKo8c-s",
        "outputId": "d3351c0e-65f3-45c2-80d2-9e3101af9112"
      },
      "execution_count": 184,
      "outputs": [
        {
          "output_type": "stream",
          "name": "stdout",
          "text": [
            "Index(['comments', 'description', 'duration', 'event', 'film_date',\n",
            "       'languages', 'main_speaker', 'name', 'num_speaker', 'published_date',\n",
            "       'ratings', 'related_talks', 'speaker_occupation', 'tags', 'title',\n",
            "       'url', 'views'],\n",
            "      dtype='object')\n"
          ]
        }
      ]
    },
    {
      "cell_type": "code",
      "source": [
        "kaggle_data_transcripts = pd.read_csv(\"transcripts.csv\")"
      ],
      "metadata": {
        "id": "l90RUUME7j6F"
      },
      "execution_count": 185,
      "outputs": []
    },
    {
      "cell_type": "code",
      "source": [
        "print(kaggle_data_transcripts.index)"
      ],
      "metadata": {
        "colab": {
          "base_uri": "https://localhost:8080/"
        },
        "id": "suFOuym1QRx_",
        "outputId": "019408f8-b71a-47e7-966c-478024c7f11b"
      },
      "execution_count": 186,
      "outputs": [
        {
          "output_type": "stream",
          "name": "stdout",
          "text": [
            "RangeIndex(start=0, stop=2467, step=1)\n"
          ]
        }
      ]
    },
    {
      "cell_type": "code",
      "source": [
        "import math"
      ],
      "metadata": {
        "id": "wGnVe9hD-zS4"
      },
      "execution_count": 187,
      "outputs": []
    },
    {
      "cell_type": "code",
      "source": [
        "top_nr_views = math.ceil(len(kaggle_data.views) / 5)"
      ],
      "metadata": {
        "id": "skmYkh6V-3Gz"
      },
      "execution_count": 190,
      "outputs": []
    },
    {
      "cell_type": "code",
      "source": [
        "indexes = kaggle_data.sort_values(by=['views']).index"
      ],
      "metadata": {
        "id": "YwGje_Rc9aAM"
      },
      "execution_count": 191,
      "outputs": []
    },
    {
      "cell_type": "code",
      "source": [
        "print(indexes)"
      ],
      "metadata": {
        "colab": {
          "base_uri": "https://localhost:8080/"
        },
        "id": "SXvB2h_rJZkC",
        "outputId": "4fec0e64-359d-4330-9a14-857e032c4e2c"
      },
      "execution_count": 192,
      "outputs": [
        {
          "output_type": "stream",
          "name": "stdout",
          "text": [
            "Int64Index([ 594, 1112,  237,  776, 1133, 1229, 1141, 1079, 1104, 1178,\n",
            "            ...\n",
            "            1416, 2114,    5,  201, 1776,  452,  837,  677, 1346,    0],\n",
            "           dtype='int64', length=2550)\n"
          ]
        }
      ]
    },
    {
      "cell_type": "code",
      "source": [
        "list_of_indexes = indexes[-top_nr_views:]"
      ],
      "metadata": {
        "id": "15ENqoFYC1SB"
      },
      "execution_count": 193,
      "outputs": []
    },
    {
      "cell_type": "code",
      "source": [
        "print(list_of_indexes.values)"
      ],
      "metadata": {
        "colab": {
          "base_uri": "https://localhost:8080/"
        },
        "id": "aSHUKuDUHBmK",
        "outputId": "ef7f19c4-d460-4448-91bb-5ed816d73222"
      },
      "execution_count": 194,
      "outputs": [
        {
          "output_type": "stream",
          "name": "stdout",
          "text": [
            "[2189  635 2089 1674 1925 1683  445 2326 1072 1231 2024 2103  931 1718\n",
            " 1941 1989 1935  813 1715 1571 2160 1465 1507 2222   37  908 1630 2373\n",
            " 2420 1405 1069 2004  906  423 1410 1782  617 1621 2038  387  142  489\n",
            " 1880  574 1560 2118 1891  501 2056 1220 1522 1354  831  688 2267 1097\n",
            " 1763 1865   54 1706  514 1659 1239   69 1529 2054 1157  821 2139 2000\n",
            " 1509  728 1608  271  520 1483 1787 2298  479 2440  890 1884  995 2211\n",
            "  422   83 2435 1737 2274 1114 1025 1974 1496  675 2169 1616 1869 1342\n",
            " 1857 2142  827 1781 1950  767 1332 1642 2124 2105 2167 2212  731  208\n",
            " 1615 2110  261 1727 1705 1665   49 2184 1304 1732 1722 2019 1117 1390\n",
            "  854  282 1353 2374 1997 1276 1101 1221  405 1752 1698  893 2253  227\n",
            " 2180  708 2241   44  862 2115 1581   62  901  953 1909 1537 1471 1632\n",
            " 1533 1451  983  684  904 1292  734 1994  886  219 1910 1043 1762 1939\n",
            " 1744  992 2068  870 2145 1823 2041  760   52 1435  567 2022 1740 2143\n",
            " 2296    8 1729  749 1313 2291 1497 2331 1176 2279 2018 1913  667  455\n",
            " 2177 2271 1291  880  148 1684  380 1902 1872 1605 2489   88 1425 2438\n",
            " 1574   15 1165 1512 1371  294  406 1489 1059 2376  428 1932 1967  883\n",
            "  713  631 1733 1386 1965  606 2178 2101  511 2309  843   27  535   26\n",
            "  540 1812 1445 1033 1661  726 1168 2187 1589  385  527 1588 1450 2215\n",
            " 1264 1548   58 1200 1741 1495  221  736  409    9 2047 1917 1140 1714\n",
            " 1711 1871 2141  585 1516 1309 1664 2472 2092 1182    1 2237 1648 2332\n",
            "  117 1813 1275 1253 1215   32  625  384 2154 1210 1585 1280 1975 2020\n",
            "  685  124 1758 1831  902  644 2090  785 1992 2340  402  175 2353 1211\n",
            "  496 1201 1836 1306 1038 1731 1384  469 1590 1818 1139 1682  984 1840\n",
            "  354 1029  172    6 1449 1164 1801 1987  864  229 1680  626 1422 1252\n",
            " 1770  669  154 2377  771  916  140  317 1517  925 1298 1701 1791 1564\n",
            "  224 1194 1654  220 1418  687 1957   89  263 1448  276  516 1162 2233\n",
            "  839 1453  456  618 1915  171   96  622 1620 1143 1233  398 2057 2398\n",
            "   13 1544 1649 1779 1459  641 1976  885 1966 2061 1816 2450  747  933\n",
            "  758 1381 1951 1227  108  654 1702 1749 2048 1488 2347  259  413  819\n",
            " 1385 1769  451 1792 1916  531 1570 1540 1452 1475   43  990 1001  215\n",
            "   67 2441 2273  492  298 1633 1170 1062 1281   21 2042  940  985 1592\n",
            " 2206  653 2174 1064 1568 1885  919 1502 1747 1719   28 1646  692  157\n",
            " 1482  835 1493  910 1710  614 2011 1063 1177 1413 1398 2131 1981  168\n",
            " 2140  213 1550 1030  973 1651 1503 1447 2076   23  246 1242 1460  401\n",
            "   30 1317 1523 1436  892   47 1940    4 1501  381  530  262  176 1572\n",
            "   29 2161 1579  596  553 1129 2109 1036 1163  500 1416 2114    5  201\n",
            " 1776  452  837  677 1346    0]\n"
          ]
        }
      ]
    },
    {
      "cell_type": "code",
      "source": [
        "relevant_transcripts = []\n",
        "\n",
        "for i in list_of_indexes.values:\n",
        "  if i < 2467:\n",
        "    relevant_transcripts.append(kaggle_data_transcripts.iloc[[i]].transcript)"
      ],
      "metadata": {
        "id": "hFHaz9CdJ4yQ"
      },
      "execution_count": 195,
      "outputs": []
    },
    {
      "cell_type": "code",
      "source": [
        "print(relevant_transcripts)"
      ],
      "metadata": {
        "colab": {
          "base_uri": "https://localhost:8080/"
        },
        "id": "WN6iy4DoKpWF",
        "outputId": "c0987d7e-aa78-4020-ce58-591610d5dc57"
      },
      "execution_count": 196,
      "outputs": [
        {
          "output_type": "stream",
          "name": "stdout",
          "text": [
            "[2189    I spend most of my time thinking about little ...\n",
            "Name: transcript, dtype: object, 635    In my industry, we believe that images can cha...\n",
            "Name: transcript, dtype: object, 2089    It has been 128 years since the last country i...\n",
            "Name: transcript, dtype: object, 1674    Approximately 30 years ago, when I was in onco...\n",
            "Name: transcript, dtype: object, 1925    As a matter of fact, I was trying to think abo...\n",
            "Name: transcript, dtype: object, 1683    It was less than a year after September 11, an...\n",
            "Name: transcript, dtype: object, 445    Two years ago here at TED I reported that we h...\n",
            "Name: transcript, dtype: object, 2326    In the last couple of years, I have produced w...\n",
            "Name: transcript, dtype: object, 1072    When I was seven years old and my sister was j...\n",
            "Name: transcript, dtype: object, 1231    In half a century of trying to help prevent wa...\n",
            "Name: transcript, dtype: object, 2024    Pat Mitchell: So I was thinking about female f...\n",
            "Name: transcript, dtype: object, 2103    In 1962 at Rice University, JFK told the count...\n",
            "Name: transcript, dtype: object, 931    I'd like to begin with a thought experiment. I...\n",
            "Name: transcript, dtype: object, 1718    We're seen as the organization that is the buc...\n",
            "Name: transcript, dtype: object, 1941    Seventy-thousand years ago, our ancestors were...\n",
            "Name: transcript, dtype: object, 1989    I'd like to start by asking you all to go to y...\n",
            "Name: transcript, dtype: object, 1935    This back here was my brain cancer. Isn't it n...\n",
            "Name: transcript, dtype: object, 813    You may not know this, but you are celebrating...\n",
            "Name: transcript, dtype: object, 1715    I didn't know when I agreed to do this whether...\n",
            "Name: transcript, dtype: object, 1571    Good morning! Are you awake? They took my name...\n",
            "Name: transcript, dtype: object, 2160    I am British.(Laughter)(Applause)Never before ...\n",
            "Name: transcript, dtype: object, 1465    (Nature sounds) When I first began recording w...\n",
            "Name: transcript, dtype: object, 1507    We are going to take a quick voyage over the c...\n",
            "Name: transcript, dtype: object, 2222    (Music)(Applause)Trevor Copp: When \"Dancing Wi...\n",
            "Name: transcript, dtype: object, 37    I want to start off by saying, Houston, we hav...\n",
            "Name: transcript, dtype: object, 908    (Music)(Applause)(Music)(Applause)\n",
            "Name: transcript, dtype: object, 1630    The world makes you something that you're not,...\n",
            "Name: transcript, dtype: object, 2373    I'd like to start with a simple question: Why ...\n",
            "Name: transcript, dtype: object, 2420    I'm here to offer you a new way to think about...\n",
            "Name: transcript, dtype: object, 1405    Growth is not dead.(Applause)Let's start the s...\n",
            "Name: transcript, dtype: object, 1069    I want to talk to you about, or share with you...\n",
            "Name: transcript, dtype: object, 2004    It was April 8, 2003. I was in Baghdad, coveri...\n",
            "Name: transcript, dtype: object, 906    The story I wanted to share with you today is ...\n",
            "Name: transcript, dtype: object, 423    I'm here today, as June said, to talk about a ...\n",
            "Name: transcript, dtype: object, 1410    I'm not sure that every person here is familia...\n",
            "Name: transcript, dtype: object, 1782    They told me that I'm a traitor to my own prof...\n",
            "Name: transcript, dtype: object, 617    OK. We've heard a lot of people speak at this ...\n",
            "Name: transcript, dtype: object, 1621    What's the scariest thing you've ever done? Or...\n",
            "Name: transcript, dtype: object, 2038    I'm an underwater explorer, more specifically ...\n",
            "Name: transcript, dtype: object, 387    I was raised in Seoul, Korea, and moved to New...\n",
            "Name: transcript, dtype: object, 142    On simplicity. What a great way to start. Firs...\n",
            "Name: transcript, dtype: object, 489    If I could reveal anything that is hidden from...\n",
            "Name: transcript, dtype: object, 1880    My first love was for the night sky. Love is c...\n",
            "Name: transcript, dtype: object, 574    (Music)(Applause)(Music)(Music) (Applause)(Mus...\n",
            "Name: transcript, dtype: object, 1560    So how many of you have ever been in a cave be...\n",
            "Name: transcript, dtype: object, 2118    When I think about dreams, like many of you, I...\n",
            "Name: transcript, dtype: object, 1891    You may not realize this, but there are more b...\n",
            "Name: transcript, dtype: object, 501    Today I want to talk to you about swimming acr...\n",
            "Name: transcript, dtype: object, 2056    So I come from the tallest people on the plane...\n",
            "Name: transcript, dtype: object, 1220    I'm gonna talk a little bit about open-source ...\n",
            "Name: transcript, dtype: object, 1522    Throughout my career, I've been fortunate enou...\n",
            "Name: transcript, dtype: object, 1354    When I was 11, I remember waking up one mornin...\n",
            "Name: transcript, dtype: object, 831    (Whistling)(Whistling ends)(Applause)Thank you...\n",
            "Name: transcript, dtype: object, 688    The story starts in Kenya in December of 2007,...\n",
            "Name: transcript, dtype: object, 2267    Here's a startling fact: in the 45 years since...\n",
            "Name: transcript, dtype: object, 1097    (Applause)(Video) Announcer: Threats, in the w...\n",
            "Name: transcript, dtype: object, 1763    I know a man who soars above the city every ni...\n",
            "Name: transcript, dtype: object, 1865    I'd like to tell you a story about death and a...\n",
            "Name: transcript, dtype: object, 54    If you take 10,000 people at random, 9,999 hav...\n",
            "Name: transcript, dtype: object, 1706    Right now you have a movie playing inside your...\n",
            "Name: transcript, dtype: object, 514    I'd like to talk a little bit this morning abo...\n",
            "Name: transcript, dtype: object, 1659    So, I have a feature on my website where every...\n",
            "Name: transcript, dtype: object, 1239    (Video) Newscaster: There's a large path of de...\n",
            "Name: transcript, dtype: object, 69    As you pointed out, every time you come here, ...\n",
            "Name: transcript, dtype: object, 1529    My work focuses on the connection of both thin...\n",
            "Name: transcript, dtype: object, 2054    We've evolved with tools, and tools have evolv...\n",
            "Name: transcript, dtype: object, 1157    I'm going to talk to you about optimism — or m...\n",
            "Name: transcript, dtype: object, 821    My story actually began when I was four years ...\n",
            "Name: transcript, dtype: object, 2139    What is it that French people do better than a...\n",
            "Name: transcript, dtype: object, 2000    (Guitar music starts)(Music ends)(Applause)(Di...\n",
            "Name: transcript, dtype: object, 1509    So I wanted to tell a story that really obsess...\n",
            "Name: transcript, dtype: object, 728    The moment I say \"school,\" so many memories co...\n",
            "Name: transcript, dtype: object, 1608    Almost two years ago, I was driving in my car ...\n",
            "Name: transcript, dtype: object, 271    Dogs have interests. They have interest sniffi...\n",
            "Name: transcript, dtype: object, 520    I'm a storyteller. And I would like to tell yo...\n",
            "Name: transcript, dtype: object, 1483    The day I left home for the first time to go t...\n",
            "Name: transcript, dtype: object, 1787    I want you guys to imagine  that you're a sold...\n",
            "Name: transcript, dtype: object, 2298    So I'm here to talk to you about the walkable ...\n",
            "Name: transcript, dtype: object, 479    So I am a pediatric cancer doctor and stem-cel...\n",
            "Name: transcript, dtype: object, 2440    Are you tired of your boss?(Laughter)Are you t...\n",
            "Name: transcript, dtype: object, 890    Good afternoon, everybody. I've got something ...\n",
            "Name: transcript, dtype: object, 1884    I work with a bunch of mathematicians, philoso...\n",
            "Name: transcript, dtype: object, 995    Okay, now I don't want to alarm anybody in thi...\n",
            "Name: transcript, dtype: object, 2211    I was recently traveling in the Highlands of N...\n",
            "Name: transcript, dtype: object, 422    It's pretty simple. There are nine, sort of, r...\n",
            "Name: transcript, dtype: object, 83    Nature's my muse and it's been my passion. As ...\n",
            "Name: transcript, dtype: object, 2435    Today I'm going to talk about technology and s...\n",
            "Name: transcript, dtype: object, 1737    Hans Rosling: I'm going to ask you three multi...\n",
            "Name: transcript, dtype: object, 2274    I am a chef and a food policy guy, but I come ...\n",
            "Name: transcript, dtype: object, 1114    I have a question for you: Are you religious? ...\n",
            "Name: transcript, dtype: object, 1025    I, like many of you, am one of the two billion...\n",
            "Name: transcript, dtype: object, 1974    So I've had the great privilege of traveling t...\n",
            "Name: transcript, dtype: object, 1496    When I was about three or four years old, I re...\n",
            "Name: transcript, dtype: object, 675    Those of you who may remember me from TEDGloba...\n",
            "Name: transcript, dtype: object, 2169    So when I decided to create an art piece in Ma...\n",
            "Name: transcript, dtype: object, 1616    Let me start by asking you a question, just wi...\n",
            "Name: transcript, dtype: object, 1869    When I was a kid, the disaster we worried abou...\n",
            "Name: transcript, dtype: object, 1342    What I want to do this afternoon is something ...\n",
            "Name: transcript, dtype: object, 1857    We are built out of very small stuff, and we a...\n",
            "Name: transcript, dtype: object, 2142    Today 40 million Americans are indebted for th...\n",
            "Name: transcript, dtype: object, 827    What I thought I would do is I would start wit...\n",
            "Name: transcript, dtype: object, 1781    What has the War on Drugs  done to the world? ...\n",
            "Name: transcript, dtype: object, 1950    I was raised by lesbians in the mountains, and...\n",
            "Name: transcript, dtype: object, 767    So there are a few things that bring us humans...\n",
            "Name: transcript, dtype: object, 1332    It's wonderful to be here to talk about my jou...\n",
            "Name: transcript, dtype: object, 1642    When I was born, there was really only one boo...\n",
            "Name: transcript, dtype: object, 2124    In the space that used to house one transistor...\n",
            "Name: transcript, dtype: object, 2105    I have one more reason for optimism: climate c...\n",
            "Name: transcript, dtype: object, 2167    There's this fact that I love that I read some...\n",
            "Name: transcript, dtype: object, 2212    So, has everybody heard of CRISPR? I would be ...\n",
            "Name: transcript, dtype: object, 731    If you really want to understand the problem t...\n",
            "Name: transcript, dtype: object, 208    I’m working a lot with motion and animation, a...\n",
            "Name: transcript, dtype: object, 1615    So my moment of truth did not come all at once...\n",
            "Name: transcript, dtype: object, 2110    How do you find a dinosaur? Sounds impossible,...\n",
            "Name: transcript, dtype: object, 261    So I'm going to talk today about collecting st...\n",
            "Name: transcript, dtype: object, 1727    In Kenya, 1984 is known as the year of the cup...\n",
            "Name: transcript, dtype: object, 1705    Puzzles and magic. I work in what most people ...\n",
            "Name: transcript, dtype: object, 1665    The most romantic thing to ever happen to me o...\n",
            "Name: transcript, dtype: object, 49    With all the legitimate concerns about AIDS an...\n",
            "Name: transcript, dtype: object, 2184    I am a palliative care physician and I would l...\n",
            "Name: transcript, dtype: object, 1304    Living with a physical disability isn't easy a...\n",
            "Name: transcript, dtype: object, 1732    Hi, kids.(Laughter)I'm 71.(Applause) My husban...\n",
            "Name: transcript, dtype: object, 1722    I would like to share with you today a project...\n",
            "Name: transcript, dtype: object, 2019    Can I get a show of hands — how many of you in...\n",
            "Name: transcript, dtype: object, 1117    Look, I had second thoughts, really, about whe...\n",
            "Name: transcript, dtype: object, 1390    Once upon a time, there was a place called Les...\n",
            "Name: transcript, dtype: object, 854    There's a beautiful statement on the screen th...\n",
            "Name: transcript, dtype: object, 282    So, a big question that we're facing now and h...\n",
            "Name: transcript, dtype: object, 1353    In my previous life, I was an artist. I still ...\n",
            "Name: transcript, dtype: object, 2374    I have a confession. I have been in an affair ...\n",
            "Name: transcript, dtype: object, 1997    Every day, I listen to harrowing stories of pe...\n",
            "Name: transcript, dtype: object, 1276    Five years ago, I experienced a bit of what it...\n",
            "Name: transcript, dtype: object, 1101    Well this is a really extraordinary honor for ...\n",
            "Name: transcript, dtype: object, 1221    Hi. This is my mobile phone. A mobile phone ca...\n",
            "Name: transcript, dtype: object, 405    I'm the weekly tech critic for the New York Ti...\n",
            "Name: transcript, dtype: object, 1752    Today I want to tell you about a project being...\n",
            "Name: transcript, dtype: object, 1698    I've been thinking a lot about the world recen...\n",
            "Name: transcript, dtype: object, 893    It's great being here at TED. You know, I thin...\n",
            "Name: transcript, dtype: object, 2253    Mia Birdsong: Why is Black Lives Matter import...\n",
            "Name: transcript, dtype: object, 227    Being a child, and sort of crawling around the...\n",
            "Name: transcript, dtype: object, 2180    In July of 1911, a 35-year-old Yale graduate a...\n",
            "Name: transcript, dtype: object, 708    For a moment, what I need to do is project som...\n",
            "Name: transcript, dtype: object, 2241    Chris Anderson: So, Jon, this feels scary.Jona...\n",
            "Name: transcript, dtype: object, 44    Well, it's great to be here. We've heard a lot...\n",
            "Name: transcript, dtype: object, 862    The idea behind the Stuxnet computer worm is a...\n",
            "Name: transcript, dtype: object, 2115    For the next 16 minutes, I'm going to take you...\n",
            "Name: transcript, dtype: object, 1581    So when I was in Morocco, in Casablanca, not s...\n",
            "Name: transcript, dtype: object, 62    I thought in getting up to my TED wish I would...\n",
            "Name: transcript, dtype: object, 901    I'm a pediatrician and an anesthesiologist, so...\n",
            "Name: transcript, dtype: object, 953    Do you know that we have 1.4 million cellular ...\n",
            "Name: transcript, dtype: object, 1909    The FBI is responsible for more terrorism plot...\n",
            "Name: transcript, dtype: object, 1537    I am a neuroscientist with a mixed background ...\n",
            "Name: transcript, dtype: object, 1471    I love paper, and I love technology, and what ...\n",
            "Name: transcript, dtype: object, 1632    If you look deep into the night sky, you see s...\n",
            "Name: transcript, dtype: object, 1533    Three years ago, I was standing about a hundre...\n",
            "Name: transcript, dtype: object, 1451    Writing biography is a strange thing to do. It...\n",
            "Name: transcript, dtype: object, 983    What I want to talk about today is one idea. I...\n",
            "Name: transcript, dtype: object, 684    I'm going to begin by reciting a poem. \"Oh bel...\n",
            "Name: transcript, dtype: object, 904    So I think data can actually make us more huma...\n",
            "Name: transcript, dtype: object, 1292    Today I have just one request. Please don't te...\n",
            "Name: transcript, dtype: object, 734    For the last 10 years, I've been spending my t...\n",
            "Name: transcript, dtype: object, 1994    A year ago, we were invited by the Swiss Embas...\n",
            "Name: transcript, dtype: object, 886    So for the past year and a half, my team at Pu...\n",
            "Name: transcript, dtype: object, 219    You know, one of the things that I'd like to s...\n",
            "Name: transcript, dtype: object, 1910    It was November 1, 2002, my first day as a pri...\n",
            "Name: transcript, dtype: object, 1043    So, my name is Roger Doiron, and I have a subv...\n",
            "Name: transcript, dtype: object, 1762    So I started working with refugees because I w...\n",
            "Name: transcript, dtype: object, 1939    This is a map of New York State that was made ...\n",
            "Name: transcript, dtype: object, 1744    We are at a remarkable moment in time. We face...\n",
            "Name: transcript, dtype: object, 992    What is going on in this baby's mind? If you'd...\n",
            "Name: transcript, dtype: object, 2068    As a kid, I used to dream about the ocean. It ...\n",
            "Name: transcript, dtype: object, 870    I have had the distinct blessing in my life to...\n",
            "Name: transcript, dtype: object, 2145    War has been a part of my life since I can rem...\n",
            "Name: transcript, dtype: object, 1823    I want to speak about  a forgotten conflict. I...\n",
            "Name: transcript, dtype: object, 2041    Welcome to Bayeku, a riverine community in Iko...\n",
            "Name: transcript, dtype: object, 760    (Music)♫ Here we stand ♫♫ Like an Adam and an ...\n",
            "Name: transcript, dtype: object, 52    You know, one of the intense pleasures of trav...\n",
            "Name: transcript, dtype: object, 1435    So I was trained to become a gymnast for two y...\n",
            "Name: transcript, dtype: object, 567    The key question is, \"When are we going to get...\n",
            "Name: transcript, dtype: object, 2022    We're at a tipping point in human history, a s...\n",
            "Name: transcript, dtype: object, 1740    So in 1781, an English composer, technologist ...\n",
            "Name: transcript, dtype: object, 2143    I'm an Iranian-American Muslim female, like al...\n",
            "Name: transcript, dtype: object, 2296    [This talk contains graphic language and descr...\n",
            "Name: transcript, dtype: object, 8    It's wonderful to be back. I love this wonderf...\n",
            "Name: transcript, dtype: object, 1729    So recently, some white guys and some black wo...\n",
            "Name: transcript, dtype: object, 749    We are here today because [the] United Nations...\n",
            "Name: transcript, dtype: object, 1313    I'm going to talk about the power of a word: j...\n",
            "Name: transcript, dtype: object, 2291    Back in 2003, the UK government carried out a ...\n",
            "Name: transcript, dtype: object, 1497    So over the long course of human history, the ...\n",
            "Name: transcript, dtype: object, 2331    I'm going to be talking about statistics today...\n",
            "Name: transcript, dtype: object, 1176    All right. So, like all good stories, this sta...\n",
            "Name: transcript, dtype: object, 2279    For the past few years, I've been spending my ...\n",
            "Name: transcript, dtype: object, 2018    In the past few months, I've been traveling fo...\n",
            "Name: transcript, dtype: object, 1913    I love a great mystery, and I'm fascinated by ...\n",
            "Name: transcript, dtype: object, 667    I want to talk about what we learn from conser...\n",
            "Name: transcript, dtype: object, 455    \"The Better Man.\"I was the better at getting a...\n",
            "Name: transcript, dtype: object, 2177    I'm really glad to be here. I'm glad you're he...\n",
            "Name: transcript, dtype: object, 2271    There is something about physics that has been...\n",
            "Name: transcript, dtype: object, 1291    I think the beautiful Malin [Akerman] put it p...\n",
            "Name: transcript, dtype: object, 880    I'm very fortunate to be here. I feel so fortu...\n",
            "Name: transcript, dtype: object, 148    So, where are the robots? We've been told for ...\n",
            "Name: transcript, dtype: object, 1684    In the middle of my Ph.D., I was hopelessly st...\n",
            "Name: transcript, dtype: object, 380    Chris Anderson: Let's now see the extraordinar...\n",
            "Name: transcript, dtype: object, 1902    I've learned some of my most important life le...\n",
            "Name: transcript, dtype: object, 1872    It would be nice to be objective in life, in m...\n",
            "Name: transcript, dtype: object, 1605    I'm going to talk about hackers. And the image...\n",
            "Name: transcript, dtype: object, 88    I'm not quite sure whether I really want to se...\n",
            "Name: transcript, dtype: object, 1425    Hey guys. It's funny, someone just mentioned M...\n",
            "Name: transcript, dtype: object, 2438    This is a talk about sugar and cancer. I becam...\n",
            "Name: transcript, dtype: object, 1574    This is an image of the planet Earth. It looks...\n",
            "Name: transcript, dtype: object, 15    (Music)(Music ends)(Applause)(Applause ends)Hi...\n",
            "Name: transcript, dtype: object, 1165    This sound, this smell, this sight all remind ...\n",
            "Name: transcript, dtype: object, 1512    An image is worth more than a thousand words, ...\n",
            "Name: transcript, dtype: object, 1371    I live in South Central. This is South Central...\n",
            "Name: transcript, dtype: object, 294    I'm a, or was, or kind of am a toy designer. A...\n",
            "Name: transcript, dtype: object, 406    I coined my own definition of success in 1934,...\n",
            "Name: transcript, dtype: object, 1489    I come from Lebanon, and I believe that runnin...\n",
            "Name: transcript, dtype: object, 1059    One of the most common ways of dividing the wo...\n",
            "Name: transcript, dtype: object, 2376    Zika fever: our newest dread disease. What is ...\n",
            "Name: transcript, dtype: object, 428    The first half of the 20th century was an abso...\n",
            "Name: transcript, dtype: object, 1932    About 10 years ago, I went through a little bi...\n",
            "Name: transcript, dtype: object, 1967    Wow, what an honor. I always wondered what thi...\n",
            "Name: transcript, dtype: object, 883    How would you like to be better than you are? ...\n",
            "Name: transcript, dtype: object, 713    When I saw a piece of technology called Kinect...\n",
            "Name: transcript, dtype: object, 631    So the first robot to talk about is called STr...\n",
            "Name: transcript, dtype: object, 1733    I'm an industrial engineer. The goal in my lif...\n",
            "Name: transcript, dtype: object, 1386    This is where I live. I live in Kenya, at the ...\n",
            "Name: transcript, dtype: object, 1965    I'm here to recruit men to support gender equa...\n",
            "Name: transcript, dtype: object, 606    If I can leave you with one big idea today, it...\n",
            "Name: transcript, dtype: object, 2178    How do we build a society without fossil fuels...\n",
            "Name: transcript, dtype: object, 2101    Strap yourselves in, we're going to Mars.Not j...\n",
            "Name: transcript, dtype: object, 511    Okay, so 90 percent of my photographic process...\n",
            "Name: transcript, dtype: object, 2309    Growing up in Kenya, I knew I always wanted to...\n",
            "Name: transcript, dtype: object, 843    Two weeks ago I was in my studio in Paris, and...\n",
            "Name: transcript, dtype: object, 27    You'll be happy to know that I'll be talking n...\n",
            "Name: transcript, dtype: object, 535    I'm a writer and a journalist, and I'm also an...\n",
            "Name: transcript, dtype: object, 26    My title: \"Queerer than we can suppose: the st...\n",
            "Name: transcript, dtype: object, 540    I started my journey 30 years ago. And I worke...\n",
            "Name: transcript, dtype: object, 1812    Guatemala is recovering from a 36-year armed c...\n",
            "Name: transcript, dtype: object, 1445    Allow me to start this talk with a question to...\n",
            "Name: transcript, dtype: object, 1033    Good afternoon, I'm proud to be here at TEDxKr...\n",
            "Name: transcript, dtype: object, 1661    So today's top chef class is in how to rob a b...\n",
            "Name: transcript, dtype: object, 726    This strange-looking plant is called the Llare...\n",
            "Name: transcript, dtype: object, 1168    When the Industrial Revolution started, the am...\n",
            "Name: transcript, dtype: object, 2187    As a lover of human anatomy, I'm so excited th...\n",
            "Name: transcript, dtype: object, 1589    Server: May I help you, sir?Customer: Uh, let'...\n",
            "Name: transcript, dtype: object, 385    Let's talk trash.You know, we had to be taught...\n",
            "Name: transcript, dtype: object, 527    Over the next five minutes, my intention is to...\n",
            "Name: transcript, dtype: object, 1588    Science, science has allowed us to know so muc...\n",
            "Name: transcript, dtype: object, 1450    Everything is interconnected. As a Shinnecock ...\n",
            "Name: transcript, dtype: object, 2215    When Dorothy was a little girl, she was fascin...\n",
            "Name: transcript, dtype: object, 1264    Hi. So, this chap here, he thinks he can tell ...\n",
            "Name: transcript, dtype: object, 1548    One billion people in the world today do not h...\n",
            "Name: transcript, dtype: object, 58    So my grandfather told me when I was a little ...\n",
            "Name: transcript, dtype: object, 1200    So I'm a woman with chronic schizophrenia. I'v...\n",
            "Name: transcript, dtype: object, 1741    Hi everybody. So my name is Mac. My job is tha...\n",
            "Name: transcript, dtype: object, 1495    This is Charley Williams. He was 94 when this ...\n",
            "Name: transcript, dtype: object, 221    What I'd like to do is just drag us all down i...\n",
            "Name: transcript, dtype: object, 736    Hello. I would like to start my talk with actu...\n",
            "Name: transcript, dtype: object, 409    Newspapers are dying for a few reasons. Reader...\n",
            "Name: transcript, dtype: object, 9    I'm often asked, \"What surprised you about the...\n",
            "Name: transcript, dtype: object, 2047    Melati Wijsen: Bali — island of gods.Isabel Wi...\n",
            "Name: transcript, dtype: object, 1917    Just after Christmas last year, 132 kids in Ca...\n",
            "Name: transcript, dtype: object, 1140    So I want to talk today about money and happin...\n",
            "Name: transcript, dtype: object, 1714    Take a look at this drawing. Can you tell what...\n",
            "Name: transcript, dtype: object, 1711    I would like to share with you a new model of ...\n",
            "Name: transcript, dtype: object, 1871    Imagine you're in a bar, or a club, and you st...\n",
            "Name: transcript, dtype: object, 2141    Have you ever been asked by your Chinese frien...\n",
            "Name: transcript, dtype: object, 585    Please close your eyes, and open your hands. N...\n",
            "Name: transcript, dtype: object, 1516    The work of a transportation commissioner isn'...\n",
            "Name: transcript, dtype: object, 1309    Hi. I'm here to talk about congestion, namely ...\n",
            "Name: transcript, dtype: object, 1664    \"Pheromone\" is a very powerful word. It conjur...\n",
            "Name: transcript, dtype: object, 2092    Here are two reasons companies fail: they only...\n",
            "Name: transcript, dtype: object, 1182    I am no designer, nope, no way. My dad was, wh...\n",
            "Name: transcript, dtype: object, 1    Thank you so much, Chris. And it's truly a gre...\n",
            "Name: transcript, dtype: object, 2237    Half of the human workforce is expected to be ...\n",
            "Name: transcript, dtype: object, 1648    Scientific breakthrough, the kind that can pot...\n",
            "Name: transcript, dtype: object, 2332    It was just an ordinary Saturday. My dad was o...\n",
            "Name: transcript, dtype: object, 117    How many Creationists do we have in the room? ...\n",
            "Name: transcript, dtype: object, 1813    When the Portuguese arrived in Latin America a...\n",
            "Name: transcript, dtype: object, 1275    One in four people suffer from some sort of me...\n",
            "Name: transcript, dtype: object, 1253    So when the White House was built in the early...\n",
            "Name: transcript, dtype: object, 1215    I'm going to start on a slightly somber note. ...\n",
            "Name: transcript, dtype: object, 32    18 minutes is an absolutely brutal time limit,...\n",
            "Name: transcript, dtype: object, 625    I'm standing in front of you today in all humi...\n",
            "Name: transcript, dtype: object, 384    I'm here today representing a team of artists ...\n",
            "Name: transcript, dtype: object, 2154    Once there was a star. Like everything else, s...\n",
            "Name: transcript, dtype: object, 1210    My passions are music, technology and making t...\n",
            "Name: transcript, dtype: object, 1585    I'd like to reimagine education. The last year...\n",
            "Name: transcript, dtype: object, 1280    Beau Lotto: So, this game is very simple. All ...\n",
            "Name: transcript, dtype: object, 1975    Imagine being unable to say, \"I am hungry,\" \"I...\n",
            "Name: transcript, dtype: object, 2020    Nicole Paris: TEDYouth, make some noise!(Beatb...\n",
            "Name: transcript, dtype: object, 685    It's a great pleasure to be here. It's a great...\n",
            "Name: transcript, dtype: object, 124    Allison Hunt: My three minutes hasn't started ...\n",
            "Name: transcript, dtype: object, 1758    There is an entire genre of YouTube videos dev...\n",
            "Name: transcript, dtype: object, 1831    So infectious diseases, right? Infectious dise...\n",
            "Name: transcript, dtype: object, 902    So I want to take you on a trip to an alien wo...\n",
            "Name: transcript, dtype: object, 644    So I want to talk today about an idea. It's a ...\n",
            "Name: transcript, dtype: object, 2090    OK, so, confession: I've always been weirdly o...\n",
            "Name: transcript, dtype: object, 785    Hello. My name is Birke Baehr, and I'm 11 year...\n",
            "Name: transcript, dtype: object, 1992    When I was a kid, my parents would tell me, \"Y...\n",
            "Name: transcript, dtype: object, 2340    [This talk contains graphic content. Viewer di...\n",
            "Name: transcript, dtype: object, 402    Some 17 years ago, I became allergic to Delhi'...\n",
            "Name: transcript, dtype: object, 175    Frank Gehry: I listened to this scientist this...\n",
            "Name: transcript, dtype: object, 2353    I want to tell you a story about a girl. But I...\n",
            "Name: transcript, dtype: object, 1211    Something happened in the early morning hours ...\n",
            "Name: transcript, dtype: object, 496    I'm going to tell you about one of the world's...\n",
            "Name: transcript, dtype: object, 1201    The phenomenon you saw here for a brief moment...\n",
            "Name: transcript, dtype: object, 1836    In the mid-'90s, the CDC and Kaiser Permanente...\n",
            "Name: transcript, dtype: object, 1306    When I graduated UCLA, I moved to northern Cal...\n",
            "Name: transcript, dtype: object, 1038    My travels to Afghanistan began many, many yea...\n",
            "Name: transcript, dtype: object, 1731    Why does the universe exist? Why is there — Ok...\n",
            "Name: transcript, dtype: object, 1384    Everything is covered in invisible ecosystems ...\n",
            "Name: transcript, dtype: object, 469    A month ago today I stood there: 90 degrees so...\n",
            "Name: transcript, dtype: object, 1590    I want you to imagine what a breakthrough this...\n",
            "Name: transcript, dtype: object, 1818    So we humans have an extraordinary potential f...\n",
            "Name: transcript, dtype: object, 1139    A few months ago the Nobel Prize in physics wa...\n",
            "Name: transcript, dtype: object, 1682    Four years ago, a security researcher, or, as ...\n",
            "Name: transcript, dtype: object, 984    I was born in Switzerland and raised in Ghana,...\n",
            "Name: transcript, dtype: object, 1840    We humans have always been very concerned abou...\n",
            "Name: transcript, dtype: object, 354    I'll just start talking about the 17th century...\n",
            "Name: transcript, dtype: object, 1029    (Music)Good afternoon.As you're all aware, we ...\n",
            "Name: transcript, dtype: object, 172    Here's my thing. Hold on. There I go. Hey. I w...\n",
            "Name: transcript, dtype: object, 6    On September 10, the morning of my seventh bir...\n",
            "Name: transcript, dtype: object, 1449    The idea of eliminating poverty is a great goa...\n",
            "Name: transcript, dtype: object, 1164    I'm going to talk about religion. But it's a b...\n",
            "Name: transcript, dtype: object, 1801    When we think about mapping cities, we tend to...\n",
            "Name: transcript, dtype: object, 1987    Father Daniel Berrigan once said that \"writing...\n",
            "Name: transcript, dtype: object, 864    As a boy, I loved cars. When I turned 18, I lo...\n",
            "Name: transcript, dtype: object, 229    Just to put everything in context, and to kind...\n",
            "Name: transcript, dtype: object, 1680    Election night 2008 was a night that tore me i...\n",
            "Name: transcript, dtype: object, 626    We are drowning in news. Reuters alone puts ou...\n",
            "Name: transcript, dtype: object, 1422    When I was in my 20s, I saw my very first psyc...\n",
            "Name: transcript, dtype: object, 1252    As you might imagine, I'm absolutely passionat...\n",
            "Name: transcript, dtype: object, 1770    I came here to show you the Fotokite. It's a t...\n",
            "Name: transcript, dtype: object, 669    I would like to share with you this morning so...\n",
            "Name: transcript, dtype: object, 154    So, I guess it is a result of globalization th...\n",
            "Name: transcript, dtype: object, 2377    (Dominoes fall)(Toy car)(Ball rolls)(Music: \"T...\n",
            "Name: transcript, dtype: object, 771    So this is a story of a place that I now call ...\n",
            "Name: transcript, dtype: object, 916    In 2007, I decided that we needed to reconcept...\n",
            "Name: transcript, dtype: object, 140    Three years ago, I got a phone call, based on ...\n",
            "Name: transcript, dtype: object, 317    One of my favorite cartoon characters is Snoop...\n",
            "Name: transcript, dtype: object, 1517    \"Iran is Israel's best friend, and we do not i...\n",
            "Name: transcript, dtype: object, 925    By birth and by choice, I've been involved wit...\n",
            "Name: transcript, dtype: object, 1298    On my desk in my office, I keep a small clay p...\n",
            "Name: transcript, dtype: object, 1701    On March 10, 2011, I was in Cambridge at the M...\n",
            "Name: transcript, dtype: object, 1791    I'm a lifelong traveler. Even as a little kid,...\n",
            "Name: transcript, dtype: object, 1564    Einstein said that \"I never think about the fu...\n",
            "Name: transcript, dtype: object, 224    How does the news shape the way we see the wor...\n",
            "Name: transcript, dtype: object, 1194    As a kid, I was fascinated with all things air...\n",
            "Name: transcript, dtype: object, 1654    We live in a very complex environment: complex...\n",
            "Name: transcript, dtype: object, 220    I love a challenge, and saving the Earth is pr...\n",
            "Name: transcript, dtype: object, 1418    At 7:45 a.m., I open the doors to a building d...\n",
            "Name: transcript, dtype: object, 687    So, these are the Dark Ages. And the Dark Ages...\n",
            "Name: transcript, dtype: object, 1957    If you want to buy high-quality, low-price coc...\n",
            "Name: transcript, dtype: object, 89    In 1962, with Rachel Carson's \"Silent Spring,\"...\n",
            "Name: transcript, dtype: object, 263    The Internet, the Web as we know it, the kind ...\n",
            "Name: transcript, dtype: object, 1448    I was born and raised in North Korea. Although...\n",
            "Name: transcript, dtype: object, 276    Stephanie White: I'm going to let her introduc...\n",
            "Name: transcript, dtype: object, 516    I have a very difficult task. I'm a spectrosco...\n",
            "Name: transcript, dtype: object, 1162    So, I'm going to start off with kind of the bu...\n",
            "Name: transcript, dtype: object, 2233    I'm here today to talk to you about a very pow...\n",
            "Name: transcript, dtype: object, 839    As a child, I was raised by native Hawaiian el...\n",
            "Name: transcript, dtype: object, 1453    I'm going to be talking about designing humor,...\n",
            "Name: transcript, dtype: object, 456    I used to be a Malthusian. This was my mental ...\n",
            "Name: transcript, dtype: object, 618    So, I was just asked to go and shoot this film...\n",
            "Name: transcript, dtype: object, 1915    Our emotions influence every aspect of our liv...\n",
            "Name: transcript, dtype: object, 171    I study ants, and that's because I like to thi...\n",
            "Name: transcript, dtype: object, 96    I just want to say, over the last few years I'...\n",
            "Name: transcript, dtype: object, 622    I want to talk about 4.6 billion years of hist...\n",
            "Name: transcript, dtype: object, 1620    Chris Anderson: The rights of citizens, the fu...\n",
            "Name: transcript, dtype: object, 1143    Five hundred seventy-one million two hundred t...\n",
            "Name: transcript, dtype: object, 1233    So, well, I do applied math, and this is a pec...\n",
            "Name: transcript, dtype: object, 398    I’m going around the world giving talks about ...\n",
            "Name: transcript, dtype: object, 2057    15 years ago, I volunteered to participate in ...\n",
            "Name: transcript, dtype: object, 2398    I am from the South Side of Chicago, and in se...\n",
            "Name: transcript, dtype: object, 13    I'm really excited to be here today. I'll show...\n",
            "Name: transcript, dtype: object, 1544    Today I am going to teach you how to play my f...\n",
            "Name: transcript, dtype: object, 1649    A computer is an incredibly powerful means of ...\n",
            "Name: transcript, dtype: object, 1779    The first patient to ever be  treated with an ...\n",
            "Name: transcript, dtype: object, 1459    (Music)(Applause)(Music)(Music ends)(Applause)...\n",
            "Name: transcript, dtype: object, 641    Several years ago here at TED, Peter Skillman ...\n",
            "Name: transcript, dtype: object, 1976    Raise your hand if you've ever been asked the ...\n",
            "Name: transcript, dtype: object, 885    I thought I'd talk a little bit about how natu...\n",
            "Name: transcript, dtype: object, 1966    I published this article in the New York Times...\n",
            "Name: transcript, dtype: object, 2061    1.3 billion years ago, in a distant, distant g...\n",
            "Name: transcript, dtype: object, 1816    We can cut violent deaths around the world by ...\n",
            "Name: transcript, dtype: object, 2450    This is my favorite place on earth, Salar de U...\n",
            "Name: transcript, dtype: object, 747    I want to talk to you today about prosperity, ...\n",
            "Name: transcript, dtype: object, 933    The Highline is an old, elevated rail line tha...\n",
            "Name: transcript, dtype: object, 758    I'm a visual artist, and I'm also one of the c...\n",
            "Name: transcript, dtype: object, 1381    When I was little, I thought my country was th...\n",
            "Name: transcript, dtype: object, 1951    I'd like to introduce you to an emerging area ...\n",
            "Name: transcript, dtype: object, 1227    Good afternoon. I am not a farmer.(Laughter)I'...\n",
            "Name: transcript, dtype: object, 108    I'm really scared. I don't think we're going t...\n",
            "Name: transcript, dtype: object, 654    We invent. My company invents all kinds of new...\n",
            "Name: transcript, dtype: object, 1702    (Video) Nicholas Negroponte:  Can we switch to...\n",
            "Name: transcript, dtype: object, 1749    I am an engineering professor, and for the pas...\n",
            "Name: transcript, dtype: object, 2048    Code is the next universal language. In the se...\n",
            "Name: transcript, dtype: object, 1488    Steve Ramirez: My first year of grad school, I...\n",
            "Name: transcript, dtype: object, 2347    So I would like to start by telling you about ...\n",
            "Name: transcript, dtype: object, 259    My search is always to find ways to chronicle,...\n",
            "Name: transcript, dtype: object, 413    One thing I wanted to say about film making is...\n",
            "Name: transcript, dtype: object, 819    (Laughter)I was afraid of womanhood. Not that ...\n",
            "Name: transcript, dtype: object, 1385    I'm here to show you how something you can't s...\n",
            "Name: transcript, dtype: object, 1769    Let me tell you a story about a little girl na...\n",
            "Name: transcript, dtype: object, 451    I was thinking about my place in the universe,...\n",
            "Name: transcript, dtype: object, 1792    I would like to start with the story of Mary, ...\n",
            "Name: transcript, dtype: object, 1916    An evolutionary biologist at Purdue University...\n",
            "Name: transcript, dtype: object, 531    Twenty-five-and-a-quarter years ago I read a n...\n",
            "Name: transcript, dtype: object, 1570    Hello, TEDWomen, what's up.(Cheering)Not good ...\n",
            "Name: transcript, dtype: object, 1540    \"Give me liberty or give me death.\"When Patric...\n",
            "Name: transcript, dtype: object, 1452    I'll never forget that day back in the spring ...\n",
            "Name: transcript, dtype: object, 1475    What do we know about the future? Difficult qu...\n",
            "Name: transcript, dtype: object, 43    I'm Michael Shermer, director of the Skeptics ...\n",
            "Name: transcript, dtype: object, 990    I'm a garbage man. And you might find it inter...\n",
            "Name: transcript, dtype: object, 1001    (Music)What you just heard are the interaction...\n",
            "Name: transcript, dtype: object, 215    The Value of Nothing: Out of Nothing Comes Som...\n",
            "Name: transcript, dtype: object, 67    Well, I thought there would be a podium, so I'...\n",
            "Name: transcript, dtype: object, 2441    So, my mother's a pediatrician, and when I was...\n",
            "Name: transcript, dtype: object, 2273    Let me ask you all a question. How much weapon...\n",
            "Name: transcript, dtype: object, 492    Early visions of wireless power actually were ...\n",
            "Name: transcript, dtype: object, 298    I want to argue to you that in fact, politics ...\n",
            "Name: transcript, dtype: object, 1633    Chris Anderson: So, this is an interview with ...\n",
            "Name: transcript, dtype: object, 1170    The great texts of the ancient world don't sur...\n",
            "Name: transcript, dtype: object, 1062    Do you know how many choices you make in a typ...\n",
            "Name: transcript, dtype: object, 1281    Once upon a time, the world was a big, dysfunc...\n",
            "Name: transcript, dtype: object, 21    You know, when Chris first approached me to sp...\n",
            "Name: transcript, dtype: object, 2042    Imagine you're in Rome, and you've made your w...\n",
            "Name: transcript, dtype: object, 940    Have you ever wondered why extremism seems to ...\n",
            "Name: transcript, dtype: object, 985    So I'm a doctor, but I kind of slipped sideway...\n",
            "Name: transcript, dtype: object, 1592    The urban explosion of the last years of econo...\n",
            "Name: transcript, dtype: object, 2206    There's a big question at the center of life i...\n",
            "Name: transcript, dtype: object, 653    For me, this story begins about 15 years ago, ...\n",
            "Name: transcript, dtype: object, 2174    Imagine that you are a product designer. And y...\n",
            "Name: transcript, dtype: object, 1064    Is there a real you? This might seem to you  l...\n",
            "Name: transcript, dtype: object, 1568    It's the fifth time I stand on this shore, the...\n",
            "Name: transcript, dtype: object, 1885    The brain is an amazing and complex organ. And...\n",
            "Name: transcript, dtype: object, 919    A couple of years ago, when I was attending th...\n",
            "Name: transcript, dtype: object, 1502    When my father and I started a company to 3D p...\n",
            "Name: transcript, dtype: object, 1747    I've been a critical care EMT for the past sev...\n",
            "Name: transcript, dtype: object, 1719    I'm a teacher and a practitioner of civics in ...\n",
            "Name: transcript, dtype: object, 28    I think I was supposed to talk about my new bo...\n",
            "Name: transcript, dtype: object, 1646    I feel so fortunate that my first job was work...\n",
            "Name: transcript, dtype: object, 692    Why grow homes? Because we can. Right now, Ame...\n",
            "Name: transcript, dtype: object, 157    You've all seen lots of articles on climate ch...\n",
            "Name: transcript, dtype: object, 1482    I moved back home 15 years ago after a 20-year...\n",
            "Name: transcript, dtype: object, 835    I'm speaking to you about what I call the \"mes...\n",
            "Name: transcript, dtype: object, 1493    You may want to take a closer look. There's mo...\n",
            "Name: transcript, dtype: object, 910    I spent the best part of last year working on ...\n",
            "Name: transcript, dtype: object, 1710    (Music) This is the human test, a test to see ...\n",
            "Name: transcript, dtype: object, 614    I'm going to talk to you today about my work o...\n",
            "Name: transcript, dtype: object, 2011    Your company launches a search for an open pos...\n",
            "Name: transcript, dtype: object, 1063    What I'm going to do is, I'm going to explain ...\n",
            "Name: transcript, dtype: object, 1177    When I go to parties, it doesn't usually take ...\n",
            "Name: transcript, dtype: object, 1413    In this talk today, I want to present a differ...\n",
            "Name: transcript, dtype: object, 1398    Let's talk dirty. A few years ago, oddly enoug...\n",
            "Name: transcript, dtype: object, 2131    We have historical records that allow us to kn...\n",
            "Name: transcript, dtype: object, 1981    (Guitar music)I was just thinking that I have ...\n",
            "Name: transcript, dtype: object, 168    Welcome to \"Five Dangerous Things You Should L...\n",
            "Name: transcript, dtype: object, 2140    The world is filled with incredible objects an...\n",
            "Name: transcript, dtype: object, 213    One of the problems of writing, and working, a...\n",
            "Name: transcript, dtype: object, 1550    To give me an idea of how many of you here may...\n",
            "Name: transcript, dtype: object, 1030    Now when we think of our senses, we don't usua...\n",
            "Name: transcript, dtype: object, 973    Now this is a very un-TED-like thing to do, bu...\n",
            "Name: transcript, dtype: object, 1651    \"Why?\" \"Why?\" is a question that parents ask m...\n",
            "Name: transcript, dtype: object, 1503    Democracy is in trouble, no question about tha...\n",
            "Name: transcript, dtype: object, 1447    Living in Africa is to be on the edge, metapho...\n",
            "Name: transcript, dtype: object, 2076    In India, we have these huge families. I bet a...\n",
            "Name: transcript, dtype: object, 23    I'd like to talk today about the two biggest s...\n",
            "Name: transcript, dtype: object, 246    ♫ Picture yourself in a world where there's no...\n",
            "Name: transcript, dtype: object, 1242    I worked on a film called \"Apollo 13,\" and whe...\n",
            "Name: transcript, dtype: object, 1460    When we talk about corruption, there are typic...\n",
            "Name: transcript, dtype: object, 401    I don't know what the hell I'm doing here. I w...\n",
            "Name: transcript, dtype: object, 30    I'm going to talk to you about some stuff that...\n",
            "Name: transcript, dtype: object, 1317    \"My Air Jordans cost a hundred with tax. My su...\n",
            "Name: transcript, dtype: object, 1523    I would like to tell you a story connecting th...\n",
            "Name: transcript, dtype: object, 1436    \"Even in purely non-religious terms, homosexua...\n",
            "Name: transcript, dtype: object, 892    The universe is really big. We live in a galax...\n",
            "Name: transcript, dtype: object, 47    This is really a two-hour presentation I give ...\n",
            "Name: transcript, dtype: object, 1940    In 2012, when I painted the minaret of Jara Mo...\n",
            "Name: transcript, dtype: object, 4    About 10 years ago, I took on the task to teac...\n",
            "Name: transcript, dtype: object, 1501    Eric Berlow: I'm an ecologist, and Sean's a ph...\n",
            "Name: transcript, dtype: object, 381    Chris Anderson: And now we go live to Caracas ...\n",
            "Name: transcript, dtype: object, 530    The magical moment, the magical moment of cond...\n",
            "Name: transcript, dtype: object, 262    To be new at TED — it's like being the last hi...\n",
            "Name: transcript, dtype: object, 176    (Applause)It's really quite an honor to be her...\n",
            "Name: transcript, dtype: object, 1572    So this is a picture of my dad and me, at the ...\n",
            "Name: transcript, dtype: object, 29    When you have 21 minutes to speak, two million...\n",
            "Name: transcript, dtype: object, 2161    I used to have this recurring dream where I'd ...\n",
            "Name: transcript, dtype: object, 1579    Two years ago, I have to say there was no prob...\n",
            "Name: transcript, dtype: object, 596    I'd like to share with you a discovery that I ...\n",
            "Name: transcript, dtype: object, 553    How do you observe something you can't see? Th...\n",
            "Name: transcript, dtype: object, 1129    Hi, my name is Frank, and I collect secrets. I...\n",
            "Name: transcript, dtype: object, 2109    Periods. Blood. Menstruation. Gross. Secret. H...\n",
            "Name: transcript, dtype: object, 1036    Over the last 13 years — one, three, 13 years ...\n",
            "Name: transcript, dtype: object, 1163    Recently I visited Beloit, Wisconsin. And I wa...\n",
            "Name: transcript, dtype: object, 500    Most of the time, art and science stare at eac...\n",
            "Name: transcript, dtype: object, 1416    I teach chemistry.(Explosion)All right, all ri...\n",
            "Name: transcript, dtype: object, 2114    Will we do whatever it takes to tackle climate...\n",
            "Name: transcript, dtype: object, 5    Thank you. I have to tell you I'm both challen...\n",
            "Name: transcript, dtype: object, 201    Well, this is such an honor. And it's wonderfu...\n",
            "Name: transcript, dtype: object, 1776    I grew up diagnosed as phobically shy, and, li...\n",
            "Name: transcript, dtype: object, 452    College presidents are not the first people wh...\n",
            "Name: transcript, dtype: object, 837    It's Monday morning. In Washington, the presid...\n",
            "Name: transcript, dtype: object, 677    This is the venue where, as a young man, some ...\n",
            "Name: transcript, dtype: object, 1346    It was a Saturday afternoon in May, and I sudd...\n",
            "Name: transcript, dtype: object, 0    Good morning. How are you?(Laughter)It's been ...\n",
            "Name: transcript, dtype: object]\n"
          ]
        }
      ]
    },
    {
      "cell_type": "code",
      "source": [
        "import nltk\n",
        "# nltk.download()"
      ],
      "metadata": {
        "id": "BdGYpem_PxN0"
      },
      "execution_count": 197,
      "outputs": []
    },
    {
      "cell_type": "code",
      "source": [
        "nltk.download('punkt')"
      ],
      "metadata": {
        "colab": {
          "base_uri": "https://localhost:8080/"
        },
        "id": "zWiNXX6GTMqM",
        "outputId": "e7af381c-6290-4177-b3fa-1ec85f392e53"
      },
      "execution_count": 198,
      "outputs": [
        {
          "output_type": "stream",
          "name": "stderr",
          "text": [
            "[nltk_data] Downloading package punkt to /root/nltk_data...\n",
            "[nltk_data]   Package punkt is already up-to-date!\n"
          ]
        },
        {
          "output_type": "execute_result",
          "data": {
            "text/plain": [
              "True"
            ]
          },
          "metadata": {},
          "execution_count": 198
        }
      ]
    },
    {
      "cell_type": "code",
      "source": [
        "sentences_preprocessed = []\n",
        "\n",
        "for row in relevant_transcripts:\n",
        "  tokenized = nltk.sent_tokenize(str(row.values))\n",
        "  for i in tokenized:\n",
        "    sentences_preprocessed.append(gensim.utils.simple_preprocess(i, deacc=True, min_len=3))"
      ],
      "metadata": {
        "id": "Od_LeF0_Rk1d"
      },
      "execution_count": 199,
      "outputs": []
    },
    {
      "cell_type": "code",
      "source": [
        "print(sentences_preprocessed[:10])"
      ],
      "metadata": {
        "colab": {
          "base_uri": "https://localhost:8080/"
        },
        "id": "fA_b6GRnXmsF",
        "outputId": "1c1220ef-c3b7-4caf-abfa-c1aeba33519e"
      },
      "execution_count": 200,
      "outputs": [
        {
          "output_type": "stream",
          "name": "stdout",
          "text": [
            "[['spend', 'most', 'time', 'thinking', 'about', 'little', 'girls', 'which', 'kind', 'weird', 'thing', 'for', 'grown', 'man', 'our', 'society', 'say'], ['but'], ['spend', 'most', 'time', 'thinking', 'about', 'little', 'girls', 'and', 'think', 'primarily', 'because', 'have', 'one'], ['this', 'one', 'mine', 'and', 'think', 'you', 'would', 'really', 'like', 'her'], ['she', 'smart', 'and', 'funny', 'and', 'kind', 'people', 'and', 'good', 'friend'], ['but', 'when', 'talk', 'about', 'daughter', 'the', 'word', 'find', 'myself', 'saying', 'most', 'athlete'], ['kid', 'athletic'], ['she', 'strong', 'and', 'fast', 'and', 'has', 'great', 'balance', 'and', 'good', 'body', 'control'], ['she', 'three', 'time', 'back', 'back', 'back', 'state', 'champion', 'shaolin', 'kempo'], ['nine', 'years', 'old', 'she', 'already', 'halfway', 'black', 'belt']]\n"
          ]
        }
      ]
    },
    {
      "cell_type": "code",
      "source": [
        "texts = sentences_preprocessed"
      ],
      "metadata": {
        "id": "Vt5AdvMqatoG"
      },
      "execution_count": 201,
      "outputs": []
    },
    {
      "cell_type": "code",
      "source": [
        "bigram = gensim.models.Phrases(sentences_preprocessed)"
      ],
      "metadata": {
        "id": "biyZv9IXaZeR"
      },
      "execution_count": 202,
      "outputs": []
    },
    {
      "cell_type": "code",
      "source": [
        "print(bigram)"
      ],
      "metadata": {
        "colab": {
          "base_uri": "https://localhost:8080/"
        },
        "id": "P4O9einAgv-3",
        "outputId": "e2a5dfba-6454-4817-8b1c-12a8a61ec4e2"
      },
      "execution_count": 203,
      "outputs": [
        {
          "output_type": "stream",
          "name": "stdout",
          "text": [
            "Phrases<353289 vocab, min_count=5, threshold=10.0, max_vocab_size=40000000>\n"
          ]
        }
      ]
    },
    {
      "cell_type": "code",
      "source": [
        "from nltk.stem import WordNetLemmatizer\n",
        "from nltk.corpus import stopwords\n",
        "nltk.download('stopwords')"
      ],
      "metadata": {
        "colab": {
          "base_uri": "https://localhost:8080/"
        },
        "id": "CNKYI9ojbAin",
        "outputId": "af8b6bc6-1928-4b3f-b4b5-c70d158378a3"
      },
      "execution_count": 204,
      "outputs": [
        {
          "output_type": "stream",
          "name": "stderr",
          "text": [
            "[nltk_data] Downloading package stopwords to /root/nltk_data...\n",
            "[nltk_data]   Package stopwords is already up-to-date!\n"
          ]
        },
        {
          "output_type": "execute_result",
          "data": {
            "text/plain": [
              "True"
            ]
          },
          "metadata": {},
          "execution_count": 204
        }
      ]
    },
    {
      "cell_type": "code",
      "source": [
        "lemmatizer = WordNetLemmatizer()"
      ],
      "metadata": {
        "id": "egWrP8QPb6dl"
      },
      "execution_count": 205,
      "outputs": []
    },
    {
      "cell_type": "code",
      "source": [
        "stops = set(stopwords.words('english'))"
      ],
      "metadata": {
        "id": "PoizjaJNcCeo"
      },
      "execution_count": 206,
      "outputs": []
    },
    {
      "cell_type": "code",
      "source": [
        "import re\n",
        "\n",
        "def process_texts(texts):\n",
        "    texts = [[word for word in line if word not in stops] for line in texts]\n",
        "    texts = [bigram[line] for line in texts]\n",
        "    texts = [[lemmatizer.lemmatize(word) for word in line] for line in texts]\n",
        "\n",
        "    return texts"
      ],
      "metadata": {
        "id": "rgviMFGxcRJb"
      },
      "execution_count": 207,
      "outputs": []
    },
    {
      "cell_type": "code",
      "source": [
        "from gensim.models import LdaModel\n",
        "from gensim.corpora import Dictionary\n",
        "nltk.download('wordnet')"
      ],
      "metadata": {
        "colab": {
          "base_uri": "https://localhost:8080/"
        },
        "id": "69X4Mrm2c5PJ",
        "outputId": "5720f6c8-aff9-4525-ace5-273f4982ec49"
      },
      "execution_count": 208,
      "outputs": [
        {
          "output_type": "stream",
          "name": "stderr",
          "text": [
            "[nltk_data] Downloading package wordnet to /root/nltk_data...\n",
            "[nltk_data]   Package wordnet is already up-to-date!\n"
          ]
        },
        {
          "output_type": "execute_result",
          "data": {
            "text/plain": [
              "True"
            ]
          },
          "metadata": {},
          "execution_count": 208
        }
      ]
    },
    {
      "cell_type": "code",
      "source": [
        "train_texts = process_texts(sentences_preprocessed)"
      ],
      "metadata": {
        "id": "l-PXshpzerH_"
      },
      "execution_count": 209,
      "outputs": []
    },
    {
      "cell_type": "code",
      "source": [
        "print(train_texts[:10])"
      ],
      "metadata": {
        "colab": {
          "base_uri": "https://localhost:8080/"
        },
        "id": "-eHHrknAf779",
        "outputId": "f9b13754-971e-442d-9e60-026bfc05d85a"
      },
      "execution_count": 210,
      "outputs": [
        {
          "output_type": "stream",
          "name": "stdout",
          "text": [
            "[['spend', 'time', 'thinking', 'little', 'girl', 'kind_weird', 'thing', 'grown', 'man', 'society', 'say'], [], ['spend', 'time', 'thinking', 'little', 'girl', 'think', 'primarily', 'one'], ['one', 'mine', 'think', 'would', 'really', 'like'], ['smart', 'funny', 'kind', 'people', 'good', 'friend'], ['talk', 'daughter', 'word', 'find', 'saying', 'athlete'], ['kid', 'athletic'], ['strong', 'fast', 'great', 'balance', 'good', 'body', 'control'], ['three', 'time', 'back', 'back', 'back', 'state', 'champion', 'shaolin', 'kempo'], ['nine_years', 'old', 'already', 'halfway', 'black', 'belt']]\n"
          ]
        }
      ]
    },
    {
      "cell_type": "code",
      "source": [
        "dictionary = Dictionary(train_texts)\n",
        "corpus = [dictionary.doc2bow(text) for text in train_texts]"
      ],
      "metadata": {
        "id": "3GAWpIxhmI3H"
      },
      "execution_count": 211,
      "outputs": []
    },
    {
      "cell_type": "code",
      "source": [
        "print(dictionary)"
      ],
      "metadata": {
        "colab": {
          "base_uri": "https://localhost:8080/"
        },
        "id": "W7eypkF1nFmg",
        "outputId": "35f75369-5c1e-4bf7-e615-da8dc5dc4c39"
      },
      "execution_count": 212,
      "outputs": [
        {
          "output_type": "stream",
          "name": "stdout",
          "text": [
            "Dictionary<25740 unique tokens: ['girl', 'grown', 'kind_weird', 'little', 'man']...>\n"
          ]
        }
      ]
    },
    {
      "cell_type": "code",
      "source": [
        "print(corpus[:10])"
      ],
      "metadata": {
        "colab": {
          "base_uri": "https://localhost:8080/"
        },
        "id": "DaL5U0gxnJsy",
        "outputId": "4094a9cb-45ca-4bc1-85e5-6f73e0bf8e49"
      },
      "execution_count": 213,
      "outputs": [
        {
          "output_type": "stream",
          "name": "stdout",
          "text": [
            "[[(0, 1), (1, 1), (2, 1), (3, 1), (4, 1), (5, 1), (6, 1), (7, 1), (8, 1), (9, 1), (10, 1)], [], [(0, 1), (3, 1), (7, 1), (9, 1), (10, 1), (11, 1), (12, 1), (13, 1)], [(11, 1), (13, 1), (14, 1), (15, 1), (16, 1), (17, 1)], [(18, 1), (19, 1), (20, 1), (21, 1), (22, 1), (23, 1)], [(24, 1), (25, 1), (26, 1), (27, 1), (28, 1), (29, 1)], [(30, 1), (31, 1)], [(20, 1), (32, 1), (33, 1), (34, 1), (35, 1), (36, 1), (37, 1)], [(10, 1), (38, 3), (39, 1), (40, 1), (41, 1), (42, 1), (43, 1)], [(44, 1), (45, 1), (46, 1), (47, 1), (48, 1), (49, 1)]]\n"
          ]
        }
      ]
    },
    {
      "cell_type": "code",
      "source": [
        "ldamodel = LdaModel(corpus=corpus, num_topics=30, id2word=dictionary)"
      ],
      "metadata": {
        "id": "htez1pXvnkCi"
      },
      "execution_count": 214,
      "outputs": []
    },
    {
      "cell_type": "code",
      "source": [
        "ldamodel.show_topics()"
      ],
      "metadata": {
        "colab": {
          "base_uri": "https://localhost:8080/"
        },
        "id": "Jimg8slAnslz",
        "outputId": "db2416d5-7f53-4599-e906-cd2d65aab61b"
      },
      "execution_count": 215,
      "outputs": [
        {
          "output_type": "execute_result",
          "data": {
            "text/plain": [
              "[(26,\n",
              "  '0.062*\"called\" + 0.048*\"lot\" + 0.038*\"reason\" + 0.038*\"maybe\" + 0.035*\"future\" + 0.025*\"le\" + 0.023*\"interesting\" + 0.022*\"individual\" + 0.022*\"design\" + 0.022*\"hear\"'),\n",
              " (24,\n",
              "  '0.153*\"see\" + 0.079*\"kind\" + 0.058*\"got\" + 0.034*\"end\" + 0.027*\"hand\" + 0.025*\"put\" + 0.024*\"project\" + 0.023*\"told\" + 0.021*\"science\" + 0.020*\"face\"'),\n",
              " (21,\n",
              "  '0.058*\"much\" + 0.057*\"want\" + 0.045*\"applause\" + 0.043*\"tell\" + 0.040*\"story\" + 0.040*\"question\" + 0.033*\"day\" + 0.032*\"thank\" + 0.028*\"important\" + 0.025*\"believe\"'),\n",
              " (29,\n",
              "  '0.054*\"thought\" + 0.044*\"never\" + 0.040*\"talk\" + 0.039*\"system\" + 0.036*\"looking\" + 0.034*\"call\" + 0.034*\"came\" + 0.030*\"need\" + 0.025*\"form\" + 0.023*\"difference\"'),\n",
              " (1,\n",
              "  '0.104*\"well\" + 0.094*\"really\" + 0.046*\"every\" + 0.038*\"show\" + 0.028*\"two\" + 0.027*\"talking\" + 0.027*\"one\" + 0.018*\"term\" + 0.018*\"piece\" + 0.017*\"planet\"'),\n",
              " (15,\n",
              "  '0.043*\"feel\" + 0.040*\"student\" + 0.036*\"next\" + 0.032*\"mind\" + 0.031*\"probably\" + 0.031*\"matter\" + 0.028*\"imagine\" + 0.027*\"inside\" + 0.026*\"galaxy\" + 0.023*\"research\"'),\n",
              " (5,\n",
              "  '0.099*\"idea\" + 0.044*\"help\" + 0.033*\"education\" + 0.029*\"space\" + 0.029*\"little_bit\" + 0.020*\"material\" + 0.019*\"environment\" + 0.019*\"machine\" + 0.017*\"impact\" + 0.017*\"cannot\"'),\n",
              " (17,\n",
              "  '0.066*\"let\" + 0.060*\"sort\" + 0.043*\"laughter\" + 0.033*\"sound\" + 0.031*\"understand\" + 0.026*\"side\" + 0.025*\"write\" + 0.022*\"hard\" + 0.022*\"learned\" + 0.020*\"amazing\"'),\n",
              " (12,\n",
              "  '0.048*\"power\" + 0.043*\"may\" + 0.038*\"last\" + 0.037*\"guy\" + 0.036*\"happened\" + 0.025*\"create\" + 0.024*\"high\" + 0.024*\"food\" + 0.023*\"past\" + 0.021*\"program\"'),\n",
              " (2,\n",
              "  '0.069*\"course\" + 0.065*\"better\" + 0.036*\"global\" + 0.035*\"happen\" + 0.035*\"group\" + 0.027*\"others\" + 0.026*\"new_york\" + 0.024*\"started\" + 0.021*\"bit\" + 0.018*\"young\"')]"
            ]
          },
          "metadata": {},
          "execution_count": 215
        }
      ]
    },
    {
      "cell_type": "markdown",
      "source": [
        "# Now we have to search the topic relevance in each transcript"
      ],
      "metadata": {
        "id": "1fD8oJdA5pwH"
      }
    },
    {
      "cell_type": "code",
      "source": [
        "from sklearn.feature_extraction.text import CountVectorizer\n",
        "from sklearn.metrics.pairwise import cosine_similarity"
      ],
      "metadata": {
        "id": "V29qtaCiHNek"
      },
      "execution_count": 216,
      "outputs": []
    },
    {
      "cell_type": "code",
      "source": [
        "vectorizer = CountVectorizer()"
      ],
      "metadata": {
        "id": "WcCFdH1-513a"
      },
      "execution_count": 217,
      "outputs": []
    },
    {
      "cell_type": "code",
      "source": [
        "print(ldamodel.get_topic_terms(27))"
      ],
      "metadata": {
        "colab": {
          "base_uri": "https://localhost:8080/"
        },
        "id": "dOoOIzfe7Uo-",
        "outputId": "c2007f07-e3a2-48b5-fd04-87843440cf8d"
      },
      "execution_count": 218,
      "outputs": [
        {
          "output_type": "stream",
          "name": "stdout",
          "text": [
            "[(155, 0.11581817), (631, 0.045724668), (1205, 0.04327162), (72, 0.04300324), (745, 0.04235364), (534, 0.030314282), (79, 0.028687816), (1307, 0.027458142), (257, 0.023955131), (11, 0.022497568)]\n"
          ]
        }
      ]
    },
    {
      "cell_type": "code",
      "source": [
        "topics = ldamodel.show_topics()\n",
        "print(topics)"
      ],
      "metadata": {
        "colab": {
          "base_uri": "https://localhost:8080/"
        },
        "id": "kdTHrGJMEqYp",
        "outputId": "e3ff0be9-3668-4ac5-e818-517b92340b07"
      },
      "execution_count": 219,
      "outputs": [
        {
          "output_type": "stream",
          "name": "stdout",
          "text": [
            "[(28, '0.072*\"year\" + 0.064*\"first\" + 0.056*\"fact\" + 0.054*\"part\" + 0.027*\"sense\" + 0.026*\"change\" + 0.026*\"number\" + 0.025*\"turn\" + 0.020*\"bring\" + 0.020*\"body\"'), (26, '0.062*\"called\" + 0.048*\"lot\" + 0.038*\"reason\" + 0.038*\"maybe\" + 0.035*\"future\" + 0.025*\"le\" + 0.023*\"interesting\" + 0.022*\"individual\" + 0.022*\"design\" + 0.022*\"hear\"'), (27, '0.116*\"world\" + 0.046*\"another\" + 0.043*\"data\" + 0.043*\"around\" + 0.042*\"place\" + 0.030*\"today\" + 0.029*\"ever\" + 0.027*\"whole\" + 0.024*\"money\" + 0.022*\"one\"'), (13, '0.043*\"moment\" + 0.038*\"working\" + 0.036*\"old\" + 0.035*\"life\" + 0.034*\"half\" + 0.034*\"yeah\" + 0.031*\"saw\" + 0.029*\"four\" + 0.028*\"water\" + 0.028*\"already\"'), (12, '0.048*\"power\" + 0.043*\"may\" + 0.038*\"last\" + 0.037*\"guy\" + 0.036*\"happened\" + 0.025*\"create\" + 0.024*\"high\" + 0.024*\"food\" + 0.023*\"past\" + 0.021*\"program\"'), (6, '0.183*\"thing\" + 0.054*\"think\" + 0.034*\"one\" + 0.026*\"real\" + 0.023*\"like\" + 0.021*\"play\" + 0.019*\"go\" + 0.019*\"decision\" + 0.017*\"people\" + 0.016*\"built\"'), (14, '0.043*\"technology\" + 0.043*\"people\" + 0.029*\"society\" + 0.027*\"use\" + 0.027*\"hope\" + 0.023*\"set\" + 0.022*\"share\" + 0.021*\"ability\" + 0.020*\"opportunity\" + 0.019*\"simply\"'), (5, '0.099*\"idea\" + 0.044*\"help\" + 0.033*\"education\" + 0.029*\"space\" + 0.029*\"little_bit\" + 0.020*\"material\" + 0.019*\"environment\" + 0.019*\"machine\" + 0.017*\"impact\" + 0.017*\"cannot\"'), (2, '0.069*\"course\" + 0.065*\"better\" + 0.036*\"global\" + 0.035*\"happen\" + 0.035*\"group\" + 0.027*\"others\" + 0.026*\"new_york\" + 0.024*\"started\" + 0.021*\"bit\" + 0.018*\"young\"'), (18, '0.176*\"would\" + 0.043*\"big\" + 0.041*\"example\" + 0.024*\"art\" + 0.023*\"made\" + 0.021*\"happens\" + 0.020*\"actually\" + 0.020*\"star\" + 0.019*\"try\" + 0.016*\"happening\"')]\n"
          ]
        }
      ]
    },
    {
      "cell_type": "code",
      "source": [
        "kaggle_data_extended = kaggle_data.copy()"
      ],
      "metadata": {
        "id": "G-Iwb8MyFCuT"
      },
      "execution_count": 274,
      "outputs": []
    },
    {
      "cell_type": "code",
      "source": [
        "for i in range(len(kaggle_data)):\n",
        "  if kaggle_data[\"url\"][i] not in list(kaggle_data_transcripts[\"url\"]):\n",
        "    kaggle_data_extended = kaggle_data_extended.drop(i)"
      ],
      "metadata": {
        "id": "Rxmnw3gEkNby"
      },
      "execution_count": 275,
      "outputs": []
    },
    {
      "cell_type": "code",
      "source": [
        "kaggle_data_transcripts = kaggle_data_transcripts.drop_duplicates(subset=[\"transcript\"])"
      ],
      "metadata": {
        "id": "g6uISVOkmsph"
      },
      "execution_count": 276,
      "outputs": []
    },
    {
      "cell_type": "code",
      "source": [
        "print(len(kaggle_data_extended[\"url\"]))\n",
        "print(len(kaggle_data_transcripts[\"transcript\"]))"
      ],
      "metadata": {
        "colab": {
          "base_uri": "https://localhost:8080/"
        },
        "id": "_LpMledUlzsR",
        "outputId": "e9aeaae0-e3ae-4f61-a83c-8fdb00344ce9"
      },
      "execution_count": 277,
      "outputs": [
        {
          "output_type": "stream",
          "name": "stdout",
          "text": [
            "2464\n",
            "2464\n"
          ]
        }
      ]
    },
    {
      "cell_type": "code",
      "source": [
        "topic_indexes = []\n",
        "for topic in ldamodel.show_topics():\n",
        "  topic_indexes.append([])\n"
      ],
      "metadata": {
        "id": "8KujVOjGU0mZ"
      },
      "execution_count": 278,
      "outputs": []
    },
    {
      "cell_type": "code",
      "source": [
        "for transcript in kaggle_data_transcripts[\"transcript\"]:\n",
        "  transcript_corpus = [transcript]\n",
        "  transcript_vector = vectorizer.fit_transform(transcript_corpus)\n",
        "\n",
        "  for topic_i in range(len(ldamodel.show_topics())):\n",
        "    topic = ldamodel.show_topics()[topic_i]\n",
        "    topic_word_distribution = ldamodel.get_topic_terms(topic[0])  # Word distribution of the topic\n",
        "\n",
        "    topic_words = [ldamodel.id2word[word_id] for word_id, _ in topic_word_distribution]\n",
        "    topic_probabilities = [probability for _, probability in topic_word_distribution]\n",
        "\n",
        "    topic_document = ' '.join([word for word, prob in zip(topic_words, topic_probabilities) for _ in range(int(prob * 100))])\n",
        "\n",
        "    # Vectorize the topic's word distribution\n",
        "    topic_vector = vectorizer.transform([topic_document])#.transform(topic_document.split())\n",
        "\n",
        "    # Calculate the cosine similarity between the topic vector and transcript vector\n",
        "    similarity_score = cosine_similarity(topic_vector, transcript_vector)[0][0]\n",
        "    topic_indexes[topic_i].append(similarity_score)\n",
        "  "
      ],
      "metadata": {
        "id": "oO6_KR3l6Aab"
      },
      "execution_count": 279,
      "outputs": []
    },
    {
      "cell_type": "code",
      "source": [
        "# kaggle_data_extended = kaggle_data_extended.head(2467)\n",
        "i = 0\n",
        "for topic in ldamodel.show_topics():\n",
        "  # print(str(topic[0]))\n",
        "  kaggle_data_extended[str(topic[0])] = topic_indexes[i]\n",
        "  # print(topic_indexes[i])\n",
        "  i = i + 1\n",
        "\n",
        "\n"
      ],
      "metadata": {
        "id": "7NFY0381WFy_"
      },
      "execution_count": 280,
      "outputs": []
    },
    {
      "cell_type": "code",
      "source": [
        "print(kaggle_data_extended.columns)"
      ],
      "metadata": {
        "colab": {
          "base_uri": "https://localhost:8080/"
        },
        "id": "t9GS1e7Cooge",
        "outputId": "53a8ec6d-336b-4bac-a96b-b8cdacc4470d"
      },
      "execution_count": 281,
      "outputs": [
        {
          "output_type": "stream",
          "name": "stdout",
          "text": [
            "Index(['comments', 'description', 'duration', 'event', 'film_date',\n",
            "       'languages', 'main_speaker', 'name', 'num_speaker', 'published_date',\n",
            "       'ratings', 'related_talks', 'speaker_occupation', 'tags', 'title',\n",
            "       'url', 'views', '5', '1', '6', '7', '29', '10', '2', '22', '19', '0'],\n",
            "      dtype='object')\n"
          ]
        }
      ]
    },
    {
      "cell_type": "markdown",
      "source": [
        "#Preparing the classification"
      ],
      "metadata": {
        "id": "bpxsdw6dpkzN"
      }
    },
    {
      "cell_type": "code",
      "source": [
        "import datetime\n",
        "import matplotlib.pyplot as plt\n",
        "import seaborn as sns"
      ],
      "metadata": {
        "id": "8bPQFWuopsqb"
      },
      "execution_count": 282,
      "outputs": []
    },
    {
      "cell_type": "code",
      "source": [
        "print(kaggle_data_extended[\"ratings\"])"
      ],
      "metadata": {
        "colab": {
          "base_uri": "https://localhost:8080/"
        },
        "id": "8EeYrv64rynF",
        "outputId": "6cd8dba1-77e4-4847-f353-c281ca63129d"
      },
      "execution_count": 283,
      "outputs": [
        {
          "output_type": "stream",
          "name": "stdout",
          "text": [
            "0       [{'id': 7, 'name': 'Funny', 'count': 19645}, {...\n",
            "1       [{'id': 7, 'name': 'Funny', 'count': 544}, {'i...\n",
            "2       [{'id': 7, 'name': 'Funny', 'count': 964}, {'i...\n",
            "3       [{'id': 3, 'name': 'Courageous', 'count': 760}...\n",
            "4       [{'id': 9, 'name': 'Ingenious', 'count': 3202}...\n",
            "                              ...                        \n",
            "2545    [{'id': 3, 'name': 'Courageous', 'count': 24},...\n",
            "2546    [{'id': 22, 'name': 'Fascinating', 'count': 32...\n",
            "2547    [{'id': 1, 'name': 'Beautiful', 'count': 14}, ...\n",
            "2548    [{'id': 11, 'name': 'Longwinded', 'count': 3},...\n",
            "2549    [{'id': 21, 'name': 'Unconvincing', 'count': 2...\n",
            "Name: ratings, Length: 2464, dtype: object\n"
          ]
        }
      ]
    },
    {
      "cell_type": "code",
      "source": [
        "# kaggle_data_extended['film_date'] = kaggle_data_extended['film_date'].apply(lambda x: datetime.date.fromtimestamp(int(x)))\n",
        "# kaggle_data_extended['published_date'] = kaggle_data_extended['published_date'].apply(lambda x: datetime.date.fromtimestamp(int(x)))\n",
        "# kaggle_data_extended['film_month'] = kaggle_data_extended['film_date'].apply(lambda x: x.month)\n",
        "# kaggle_data_extended['pub_month'] = kaggle_data_extended['published_date'].apply(lambda x: x.month)\n",
        "# kaggle_data_extended['film_weekday'] = kaggle_data_extended['film_date'].apply(lambda x: x.weekday())\n",
        "# kaggle_data_extended['pub_weekday'] = kaggle_data_extended['published_date'].apply(lambda x: x.weekday())\n",
        "# kaggle_data_extended[['film_date','published_date']].head()"
      ],
      "metadata": {
        "id": "NPMzNTjxxQr6"
      },
      "execution_count": 268,
      "outputs": []
    },
    {
      "cell_type": "code",
      "source": [
        "kaggle_data_extended['ratings'] = kaggle_data_extended['ratings'].str.replace(\"'\",'\"')\n",
        "kaggle_data_extended = kaggle_data_extended.merge(kaggle_data_extended.ratings.apply(lambda x: pd.Series(pd.read_json(x)['count'].values, index=pd.read_json(x)['name'])), \n",
        "            left_index=True, right_index=True)"
      ],
      "metadata": {
        "id": "4VR8dZMkxo3F"
      },
      "execution_count": 284,
      "outputs": []
    },
    {
      "cell_type": "code",
      "source": [
        "import numpy as np"
      ],
      "metadata": {
        "id": "PJPC10AHykVT"
      },
      "execution_count": 285,
      "outputs": []
    },
    {
      "cell_type": "code",
      "source": [
        "Positive = ['Beautiful', 'Courageous', 'Fascinating', 'Funny', 'Informative', 'Ingenious', 'Inspiring', 'Jaw-dropping', 'Persuasive']\n",
        "Negative = ['Confusing', 'Longwinded', 'Obnoxious', 'Unconvincing']\n",
        "kaggle_data_extended['positive'] = kaggle_data_extended.loc[:, Positive].sum(axis=1) + 1\n",
        "kaggle_data_extended['negative'] = kaggle_data_extended.loc[:, Negative].sum(axis=1) + 1\n",
        "kaggle_data_extended['pop_ratio'] = kaggle_data_extended['positive'] / kaggle_data_extended['negative']\n",
        "kaggle_data_extended.loc[:, 'Popular'] = kaggle_data_extended['pop_ratio'].apply (lambda x: 1 if x > 5 else 0)\n",
        "\n",
        "print(\"No. of Not Popular talks: \", len(kaggle_data_extended[kaggle_data_extended['Popular']==0]))\n",
        "# print(\"Ratio of Popular talks: {:.4f}\".format(len(ted[ted['Popular']==1])/ float(len(ted))))\n",
        "overall_mean_popular = np.mean(kaggle_data_extended.Popular)\n",
        "print(\"Ratio of Popular talks: {:.4f}\".format(overall_mean_popular))"
      ],
      "metadata": {
        "colab": {
          "base_uri": "https://localhost:8080/"
        },
        "id": "buhq3MpOyK4Z",
        "outputId": "31761c1a-c672-4c53-89c5-b729c16860c9"
      },
      "execution_count": 286,
      "outputs": [
        {
          "output_type": "stream",
          "name": "stdout",
          "text": [
            "No. of Not Popular talks:  308\n",
            "Ratio of Popular talks: 0.8750\n"
          ]
        }
      ]
    },
    {
      "cell_type": "code",
      "source": [
        "from sklearn.model_selection import train_test_split\n",
        "from scipy.sparse import hstack\n",
        "\n",
        "y = kaggle_data_extended.Popular\n",
        "\n",
        "cv_t = CountVectorizer(stop_words='english', max_features=10000, lowercase=True) # Title\n",
        "cv_d = CountVectorizer(stop_words='english', max_features=1000, lowercase=True) # Description\n",
        "x_t = cv_t.fit_transform(kaggle_data_extended.title)\n",
        "x_d = cv_d.fit_transform(kaggle_data_extended.description)\n",
        "x_all = kaggle_data_extended[['1', '6', '29', '10', '2', '7', '22', '0', '5', '19']]\n",
        "\n",
        "x_train, x_test, y_train, y_test = train_test_split(x_all, y, test_size=0.25, random_state=36)"
      ],
      "metadata": {
        "id": "IxPYlKfqAkYN"
      },
      "execution_count": 290,
      "outputs": []
    },
    {
      "cell_type": "code",
      "source": [
        "print(len(x_train))\n",
        "print(len(x_test))"
      ],
      "metadata": {
        "colab": {
          "base_uri": "https://localhost:8080/"
        },
        "id": "hU1j46f5H0QV",
        "outputId": "e8faf428-ebdb-496a-b8c6-4fb62ccba21a"
      },
      "execution_count": 291,
      "outputs": [
        {
          "output_type": "stream",
          "name": "stdout",
          "text": [
            "1848\n",
            "616\n"
          ]
        }
      ]
    },
    {
      "cell_type": "code",
      "source": [
        "# Write function on training and testing\n",
        "from sklearn.metrics import confusion_matrix, fbeta_score\n",
        "from sklearn.model_selection import GridSearchCV\n",
        "from sklearn.metrics import make_scorer\n",
        "from time import time\n",
        "\n",
        "def train_predict(clf, parameters):\n",
        "        \n",
        "    clf.fit(x_train, y_train)\n",
        "    scorer = make_scorer(fbeta_score, beta=1)\n",
        "\n",
        "    # 5-fold cross validation\n",
        "    start = time()\n",
        "\n",
        "    grid_obj = GridSearchCV(clf, parameters, cv=5, scoring=scorer)\n",
        "    grid_fit = grid_obj.fit(x_train, y_train)\n",
        "    best_clf = grid_fit.best_estimator_\n",
        "    best_prob_train = best_clf.predict_proba(x_train)\n",
        "    best_prob = best_clf.predict_proba(x_test)\n",
        "    best_pred_train = (best_prob_train[:,1]>0.65)*1\n",
        "    best_pred = (best_prob[:,1]>0.65)*1\n",
        "\n",
        "    end = time()\n",
        "\n",
        "    run_time = end - start\n",
        "\n",
        "    # Report results\n",
        "    print (clf.__class__.__name__ + \":\")\n",
        "    print (\"Accuracy score on training data (optimized by grid-search CV): {:.4f}\".format(best_clf.score(x_train, y_train)))\n",
        "    print (\"Accuracy score on testing data (optimized by grid-search CV): {:.4f}\".format(best_clf.score(x_test, y_test)))\n",
        "    print (\"F1-score on training data (optimized by grid-search CV): {:.4f}\".format(fbeta_score(y_train, best_pred_train, beta = 1)))\n",
        "    print (\"F1-score on testing data (optimized by grid-search CV): {:.4f}\".format(fbeta_score(y_test, best_pred, beta = 1)))\n",
        "    print (\"Parameters: \", grid_fit.best_params_)\n",
        "    # print (confusion_matrix(y_test, best_predictions))\n",
        "    print (\"Total runtime: {:.4f} seconds\".format(run_time))\n",
        "    return best_prob_train, best_prob, best_pred_train, best_pred"
      ],
      "metadata": {
        "id": "tO5DR7ADAdff"
      },
      "execution_count": 292,
      "outputs": []
    },
    {
      "cell_type": "code",
      "source": [
        "from sklearn.naive_bayes import MultinomialNB\n",
        "\n",
        "clf2 = MultinomialNB()\n",
        "parameters={}\n",
        "nb_prob_train, nb_prob, nb_pred_train, nb_pred = train_predict(clf2, parameters)\n"
      ],
      "metadata": {
        "colab": {
          "base_uri": "https://localhost:8080/"
        },
        "id": "gUKLxNlVHR2m",
        "outputId": "170888c8-443c-4c94-e8b3-d4287607d7f5"
      },
      "execution_count": 293,
      "outputs": [
        {
          "output_type": "stream",
          "name": "stdout",
          "text": [
            "MultinomialNB:\n",
            "Accuracy score on training data (optimized by grid-search CV): 0.8750\n",
            "Accuracy score on testing data (optimized by grid-search CV): 0.8750\n",
            "F1-score on training data (optimized by grid-search CV): 0.9333\n",
            "F1-score on testing data (optimized by grid-search CV): 0.9333\n",
            "Parameters:  {}\n",
            "Total runtime: 0.0311 seconds\n"
          ]
        }
      ]
    },
    {
      "cell_type": "code",
      "source": [
        "pd.DataFrame(confusion_matrix(y_train, nb_pred_train))"
      ],
      "metadata": {
        "colab": {
          "base_uri": "https://localhost:8080/",
          "height": 112
        },
        "id": "n95Ar0t8I8MP",
        "outputId": "b111730f-d02c-42d6-ec63-631c0d0f59b8"
      },
      "execution_count": 294,
      "outputs": [
        {
          "output_type": "execute_result",
          "data": {
            "text/plain": [
              "   0     1\n",
              "0  0   231\n",
              "1  0  1617"
            ],
            "text/html": [
              "\n",
              "  <div id=\"df-f3b1d78b-b56e-456f-ac68-7e5f293620f8\">\n",
              "    <div class=\"colab-df-container\">\n",
              "      <div>\n",
              "<style scoped>\n",
              "    .dataframe tbody tr th:only-of-type {\n",
              "        vertical-align: middle;\n",
              "    }\n",
              "\n",
              "    .dataframe tbody tr th {\n",
              "        vertical-align: top;\n",
              "    }\n",
              "\n",
              "    .dataframe thead th {\n",
              "        text-align: right;\n",
              "    }\n",
              "</style>\n",
              "<table border=\"1\" class=\"dataframe\">\n",
              "  <thead>\n",
              "    <tr style=\"text-align: right;\">\n",
              "      <th></th>\n",
              "      <th>0</th>\n",
              "      <th>1</th>\n",
              "    </tr>\n",
              "  </thead>\n",
              "  <tbody>\n",
              "    <tr>\n",
              "      <th>0</th>\n",
              "      <td>0</td>\n",
              "      <td>231</td>\n",
              "    </tr>\n",
              "    <tr>\n",
              "      <th>1</th>\n",
              "      <td>0</td>\n",
              "      <td>1617</td>\n",
              "    </tr>\n",
              "  </tbody>\n",
              "</table>\n",
              "</div>\n",
              "      <button class=\"colab-df-convert\" onclick=\"convertToInteractive('df-f3b1d78b-b56e-456f-ac68-7e5f293620f8')\"\n",
              "              title=\"Convert this dataframe to an interactive table.\"\n",
              "              style=\"display:none;\">\n",
              "        \n",
              "  <svg xmlns=\"http://www.w3.org/2000/svg\" height=\"24px\"viewBox=\"0 0 24 24\"\n",
              "       width=\"24px\">\n",
              "    <path d=\"M0 0h24v24H0V0z\" fill=\"none\"/>\n",
              "    <path d=\"M18.56 5.44l.94 2.06.94-2.06 2.06-.94-2.06-.94-.94-2.06-.94 2.06-2.06.94zm-11 1L8.5 8.5l.94-2.06 2.06-.94-2.06-.94L8.5 2.5l-.94 2.06-2.06.94zm10 10l.94 2.06.94-2.06 2.06-.94-2.06-.94-.94-2.06-.94 2.06-2.06.94z\"/><path d=\"M17.41 7.96l-1.37-1.37c-.4-.4-.92-.59-1.43-.59-.52 0-1.04.2-1.43.59L10.3 9.45l-7.72 7.72c-.78.78-.78 2.05 0 2.83L4 21.41c.39.39.9.59 1.41.59.51 0 1.02-.2 1.41-.59l7.78-7.78 2.81-2.81c.8-.78.8-2.07 0-2.86zM5.41 20L4 18.59l7.72-7.72 1.47 1.35L5.41 20z\"/>\n",
              "  </svg>\n",
              "      </button>\n",
              "      \n",
              "  <style>\n",
              "    .colab-df-container {\n",
              "      display:flex;\n",
              "      flex-wrap:wrap;\n",
              "      gap: 12px;\n",
              "    }\n",
              "\n",
              "    .colab-df-convert {\n",
              "      background-color: #E8F0FE;\n",
              "      border: none;\n",
              "      border-radius: 50%;\n",
              "      cursor: pointer;\n",
              "      display: none;\n",
              "      fill: #1967D2;\n",
              "      height: 32px;\n",
              "      padding: 0 0 0 0;\n",
              "      width: 32px;\n",
              "    }\n",
              "\n",
              "    .colab-df-convert:hover {\n",
              "      background-color: #E2EBFA;\n",
              "      box-shadow: 0px 1px 2px rgba(60, 64, 67, 0.3), 0px 1px 3px 1px rgba(60, 64, 67, 0.15);\n",
              "      fill: #174EA6;\n",
              "    }\n",
              "\n",
              "    [theme=dark] .colab-df-convert {\n",
              "      background-color: #3B4455;\n",
              "      fill: #D2E3FC;\n",
              "    }\n",
              "\n",
              "    [theme=dark] .colab-df-convert:hover {\n",
              "      background-color: #434B5C;\n",
              "      box-shadow: 0px 1px 3px 1px rgba(0, 0, 0, 0.15);\n",
              "      filter: drop-shadow(0px 1px 2px rgba(0, 0, 0, 0.3));\n",
              "      fill: #FFFFFF;\n",
              "    }\n",
              "  </style>\n",
              "\n",
              "      <script>\n",
              "        const buttonEl =\n",
              "          document.querySelector('#df-f3b1d78b-b56e-456f-ac68-7e5f293620f8 button.colab-df-convert');\n",
              "        buttonEl.style.display =\n",
              "          google.colab.kernel.accessAllowed ? 'block' : 'none';\n",
              "\n",
              "        async function convertToInteractive(key) {\n",
              "          const element = document.querySelector('#df-f3b1d78b-b56e-456f-ac68-7e5f293620f8');\n",
              "          const dataTable =\n",
              "            await google.colab.kernel.invokeFunction('convertToInteractive',\n",
              "                                                     [key], {});\n",
              "          if (!dataTable) return;\n",
              "\n",
              "          const docLinkHtml = 'Like what you see? Visit the ' +\n",
              "            '<a target=\"_blank\" href=https://colab.research.google.com/notebooks/data_table.ipynb>data table notebook</a>'\n",
              "            + ' to learn more about interactive tables.';\n",
              "          element.innerHTML = '';\n",
              "          dataTable['output_type'] = 'display_data';\n",
              "          await google.colab.output.renderOutput(dataTable, element);\n",
              "          const docLink = document.createElement('div');\n",
              "          docLink.innerHTML = docLinkHtml;\n",
              "          element.appendChild(docLink);\n",
              "        }\n",
              "      </script>\n",
              "    </div>\n",
              "  </div>\n",
              "  "
            ]
          },
          "metadata": {},
          "execution_count": 294
        }
      ]
    },
    {
      "cell_type": "code",
      "source": [
        "pd.DataFrame(confusion_matrix(y_test, nb_pred))"
      ],
      "metadata": {
        "colab": {
          "base_uri": "https://localhost:8080/",
          "height": 112
        },
        "id": "_d81uGKBJRdG",
        "outputId": "ddd9f3c8-49e8-45ba-92e2-897979324c64"
      },
      "execution_count": 295,
      "outputs": [
        {
          "output_type": "execute_result",
          "data": {
            "text/plain": [
              "   0    1\n",
              "0  0   77\n",
              "1  0  539"
            ],
            "text/html": [
              "\n",
              "  <div id=\"df-3bb9e609-4a08-4158-82af-578551921765\">\n",
              "    <div class=\"colab-df-container\">\n",
              "      <div>\n",
              "<style scoped>\n",
              "    .dataframe tbody tr th:only-of-type {\n",
              "        vertical-align: middle;\n",
              "    }\n",
              "\n",
              "    .dataframe tbody tr th {\n",
              "        vertical-align: top;\n",
              "    }\n",
              "\n",
              "    .dataframe thead th {\n",
              "        text-align: right;\n",
              "    }\n",
              "</style>\n",
              "<table border=\"1\" class=\"dataframe\">\n",
              "  <thead>\n",
              "    <tr style=\"text-align: right;\">\n",
              "      <th></th>\n",
              "      <th>0</th>\n",
              "      <th>1</th>\n",
              "    </tr>\n",
              "  </thead>\n",
              "  <tbody>\n",
              "    <tr>\n",
              "      <th>0</th>\n",
              "      <td>0</td>\n",
              "      <td>77</td>\n",
              "    </tr>\n",
              "    <tr>\n",
              "      <th>1</th>\n",
              "      <td>0</td>\n",
              "      <td>539</td>\n",
              "    </tr>\n",
              "  </tbody>\n",
              "</table>\n",
              "</div>\n",
              "      <button class=\"colab-df-convert\" onclick=\"convertToInteractive('df-3bb9e609-4a08-4158-82af-578551921765')\"\n",
              "              title=\"Convert this dataframe to an interactive table.\"\n",
              "              style=\"display:none;\">\n",
              "        \n",
              "  <svg xmlns=\"http://www.w3.org/2000/svg\" height=\"24px\"viewBox=\"0 0 24 24\"\n",
              "       width=\"24px\">\n",
              "    <path d=\"M0 0h24v24H0V0z\" fill=\"none\"/>\n",
              "    <path d=\"M18.56 5.44l.94 2.06.94-2.06 2.06-.94-2.06-.94-.94-2.06-.94 2.06-2.06.94zm-11 1L8.5 8.5l.94-2.06 2.06-.94-2.06-.94L8.5 2.5l-.94 2.06-2.06.94zm10 10l.94 2.06.94-2.06 2.06-.94-2.06-.94-.94-2.06-.94 2.06-2.06.94z\"/><path d=\"M17.41 7.96l-1.37-1.37c-.4-.4-.92-.59-1.43-.59-.52 0-1.04.2-1.43.59L10.3 9.45l-7.72 7.72c-.78.78-.78 2.05 0 2.83L4 21.41c.39.39.9.59 1.41.59.51 0 1.02-.2 1.41-.59l7.78-7.78 2.81-2.81c.8-.78.8-2.07 0-2.86zM5.41 20L4 18.59l7.72-7.72 1.47 1.35L5.41 20z\"/>\n",
              "  </svg>\n",
              "      </button>\n",
              "      \n",
              "  <style>\n",
              "    .colab-df-container {\n",
              "      display:flex;\n",
              "      flex-wrap:wrap;\n",
              "      gap: 12px;\n",
              "    }\n",
              "\n",
              "    .colab-df-convert {\n",
              "      background-color: #E8F0FE;\n",
              "      border: none;\n",
              "      border-radius: 50%;\n",
              "      cursor: pointer;\n",
              "      display: none;\n",
              "      fill: #1967D2;\n",
              "      height: 32px;\n",
              "      padding: 0 0 0 0;\n",
              "      width: 32px;\n",
              "    }\n",
              "\n",
              "    .colab-df-convert:hover {\n",
              "      background-color: #E2EBFA;\n",
              "      box-shadow: 0px 1px 2px rgba(60, 64, 67, 0.3), 0px 1px 3px 1px rgba(60, 64, 67, 0.15);\n",
              "      fill: #174EA6;\n",
              "    }\n",
              "\n",
              "    [theme=dark] .colab-df-convert {\n",
              "      background-color: #3B4455;\n",
              "      fill: #D2E3FC;\n",
              "    }\n",
              "\n",
              "    [theme=dark] .colab-df-convert:hover {\n",
              "      background-color: #434B5C;\n",
              "      box-shadow: 0px 1px 3px 1px rgba(0, 0, 0, 0.15);\n",
              "      filter: drop-shadow(0px 1px 2px rgba(0, 0, 0, 0.3));\n",
              "      fill: #FFFFFF;\n",
              "    }\n",
              "  </style>\n",
              "\n",
              "      <script>\n",
              "        const buttonEl =\n",
              "          document.querySelector('#df-3bb9e609-4a08-4158-82af-578551921765 button.colab-df-convert');\n",
              "        buttonEl.style.display =\n",
              "          google.colab.kernel.accessAllowed ? 'block' : 'none';\n",
              "\n",
              "        async function convertToInteractive(key) {\n",
              "          const element = document.querySelector('#df-3bb9e609-4a08-4158-82af-578551921765');\n",
              "          const dataTable =\n",
              "            await google.colab.kernel.invokeFunction('convertToInteractive',\n",
              "                                                     [key], {});\n",
              "          if (!dataTable) return;\n",
              "\n",
              "          const docLinkHtml = 'Like what you see? Visit the ' +\n",
              "            '<a target=\"_blank\" href=https://colab.research.google.com/notebooks/data_table.ipynb>data table notebook</a>'\n",
              "            + ' to learn more about interactive tables.';\n",
              "          element.innerHTML = '';\n",
              "          dataTable['output_type'] = 'display_data';\n",
              "          await google.colab.output.renderOutput(dataTable, element);\n",
              "          const docLink = document.createElement('div');\n",
              "          docLink.innerHTML = docLinkHtml;\n",
              "          element.appendChild(docLink);\n",
              "        }\n",
              "      </script>\n",
              "    </div>\n",
              "  </div>\n",
              "  "
            ]
          },
          "metadata": {},
          "execution_count": 295
        }
      ]
    },
    {
      "cell_type": "code",
      "source": [
        "# Random Forest\n",
        "from sklearn.ensemble import RandomForestClassifier\n",
        "clf = RandomForestClassifier(random_state = 108)\n",
        "parameters = {'n_estimators': range(10,21,2), 'min_samples_split': range(3, 7)}\n",
        "# parameters = {}\n",
        "rf_prob_train, rf_prob, rf_pred_train, rf_pred = train_predict(clf, parameters)\n",
        "# train_predict(clf, parameters)"
      ],
      "metadata": {
        "colab": {
          "base_uri": "https://localhost:8080/"
        },
        "id": "KapvZTzFJadL",
        "outputId": "85ede6c9-c84a-48ec-8e27-20d915f6f1b0"
      },
      "execution_count": 296,
      "outputs": [
        {
          "output_type": "stream",
          "name": "stdout",
          "text": [
            "RandomForestClassifier:\n",
            "Accuracy score on training data (optimized by grid-search CV): 0.9632\n",
            "Accuracy score on testing data (optimized by grid-search CV): 0.8685\n",
            "F1-score on training data (optimized by grid-search CV): 0.9966\n",
            "F1-score on testing data (optimized by grid-search CV): 0.9179\n",
            "Parameters:  {'min_samples_split': 6, 'n_estimators': 16}\n",
            "Total runtime: 9.0195 seconds\n"
          ]
        }
      ]
    },
    {
      "cell_type": "code",
      "source": [
        "pd.DataFrame(confusion_matrix(y_train, rf_pred_train))"
      ],
      "metadata": {
        "colab": {
          "base_uri": "https://localhost:8080/",
          "height": 112
        },
        "id": "4cVMOG_JKa5M",
        "outputId": "1f344571-8c31-4766-987b-125669125104"
      },
      "execution_count": 297,
      "outputs": [
        {
          "output_type": "execute_result",
          "data": {
            "text/plain": [
              "     0     1\n",
              "0  223     8\n",
              "1    3  1614"
            ],
            "text/html": [
              "\n",
              "  <div id=\"df-0db0171b-cba1-4c22-b4c6-6a195087e1ae\">\n",
              "    <div class=\"colab-df-container\">\n",
              "      <div>\n",
              "<style scoped>\n",
              "    .dataframe tbody tr th:only-of-type {\n",
              "        vertical-align: middle;\n",
              "    }\n",
              "\n",
              "    .dataframe tbody tr th {\n",
              "        vertical-align: top;\n",
              "    }\n",
              "\n",
              "    .dataframe thead th {\n",
              "        text-align: right;\n",
              "    }\n",
              "</style>\n",
              "<table border=\"1\" class=\"dataframe\">\n",
              "  <thead>\n",
              "    <tr style=\"text-align: right;\">\n",
              "      <th></th>\n",
              "      <th>0</th>\n",
              "      <th>1</th>\n",
              "    </tr>\n",
              "  </thead>\n",
              "  <tbody>\n",
              "    <tr>\n",
              "      <th>0</th>\n",
              "      <td>223</td>\n",
              "      <td>8</td>\n",
              "    </tr>\n",
              "    <tr>\n",
              "      <th>1</th>\n",
              "      <td>3</td>\n",
              "      <td>1614</td>\n",
              "    </tr>\n",
              "  </tbody>\n",
              "</table>\n",
              "</div>\n",
              "      <button class=\"colab-df-convert\" onclick=\"convertToInteractive('df-0db0171b-cba1-4c22-b4c6-6a195087e1ae')\"\n",
              "              title=\"Convert this dataframe to an interactive table.\"\n",
              "              style=\"display:none;\">\n",
              "        \n",
              "  <svg xmlns=\"http://www.w3.org/2000/svg\" height=\"24px\"viewBox=\"0 0 24 24\"\n",
              "       width=\"24px\">\n",
              "    <path d=\"M0 0h24v24H0V0z\" fill=\"none\"/>\n",
              "    <path d=\"M18.56 5.44l.94 2.06.94-2.06 2.06-.94-2.06-.94-.94-2.06-.94 2.06-2.06.94zm-11 1L8.5 8.5l.94-2.06 2.06-.94-2.06-.94L8.5 2.5l-.94 2.06-2.06.94zm10 10l.94 2.06.94-2.06 2.06-.94-2.06-.94-.94-2.06-.94 2.06-2.06.94z\"/><path d=\"M17.41 7.96l-1.37-1.37c-.4-.4-.92-.59-1.43-.59-.52 0-1.04.2-1.43.59L10.3 9.45l-7.72 7.72c-.78.78-.78 2.05 0 2.83L4 21.41c.39.39.9.59 1.41.59.51 0 1.02-.2 1.41-.59l7.78-7.78 2.81-2.81c.8-.78.8-2.07 0-2.86zM5.41 20L4 18.59l7.72-7.72 1.47 1.35L5.41 20z\"/>\n",
              "  </svg>\n",
              "      </button>\n",
              "      \n",
              "  <style>\n",
              "    .colab-df-container {\n",
              "      display:flex;\n",
              "      flex-wrap:wrap;\n",
              "      gap: 12px;\n",
              "    }\n",
              "\n",
              "    .colab-df-convert {\n",
              "      background-color: #E8F0FE;\n",
              "      border: none;\n",
              "      border-radius: 50%;\n",
              "      cursor: pointer;\n",
              "      display: none;\n",
              "      fill: #1967D2;\n",
              "      height: 32px;\n",
              "      padding: 0 0 0 0;\n",
              "      width: 32px;\n",
              "    }\n",
              "\n",
              "    .colab-df-convert:hover {\n",
              "      background-color: #E2EBFA;\n",
              "      box-shadow: 0px 1px 2px rgba(60, 64, 67, 0.3), 0px 1px 3px 1px rgba(60, 64, 67, 0.15);\n",
              "      fill: #174EA6;\n",
              "    }\n",
              "\n",
              "    [theme=dark] .colab-df-convert {\n",
              "      background-color: #3B4455;\n",
              "      fill: #D2E3FC;\n",
              "    }\n",
              "\n",
              "    [theme=dark] .colab-df-convert:hover {\n",
              "      background-color: #434B5C;\n",
              "      box-shadow: 0px 1px 3px 1px rgba(0, 0, 0, 0.15);\n",
              "      filter: drop-shadow(0px 1px 2px rgba(0, 0, 0, 0.3));\n",
              "      fill: #FFFFFF;\n",
              "    }\n",
              "  </style>\n",
              "\n",
              "      <script>\n",
              "        const buttonEl =\n",
              "          document.querySelector('#df-0db0171b-cba1-4c22-b4c6-6a195087e1ae button.colab-df-convert');\n",
              "        buttonEl.style.display =\n",
              "          google.colab.kernel.accessAllowed ? 'block' : 'none';\n",
              "\n",
              "        async function convertToInteractive(key) {\n",
              "          const element = document.querySelector('#df-0db0171b-cba1-4c22-b4c6-6a195087e1ae');\n",
              "          const dataTable =\n",
              "            await google.colab.kernel.invokeFunction('convertToInteractive',\n",
              "                                                     [key], {});\n",
              "          if (!dataTable) return;\n",
              "\n",
              "          const docLinkHtml = 'Like what you see? Visit the ' +\n",
              "            '<a target=\"_blank\" href=https://colab.research.google.com/notebooks/data_table.ipynb>data table notebook</a>'\n",
              "            + ' to learn more about interactive tables.';\n",
              "          element.innerHTML = '';\n",
              "          dataTable['output_type'] = 'display_data';\n",
              "          await google.colab.output.renderOutput(dataTable, element);\n",
              "          const docLink = document.createElement('div');\n",
              "          docLink.innerHTML = docLinkHtml;\n",
              "          element.appendChild(docLink);\n",
              "        }\n",
              "      </script>\n",
              "    </div>\n",
              "  </div>\n",
              "  "
            ]
          },
          "metadata": {},
          "execution_count": 297
        }
      ]
    },
    {
      "cell_type": "code",
      "source": [
        "pd.DataFrame(confusion_matrix(y_test, rf_pred))"
      ],
      "metadata": {
        "colab": {
          "base_uri": "https://localhost:8080/",
          "height": 112
        },
        "id": "ifgB4cDKKpr1",
        "outputId": "bb2f7e14-cf62-480b-a996-125b2f603ea8"
      },
      "execution_count": 298,
      "outputs": [
        {
          "output_type": "execute_result",
          "data": {
            "text/plain": [
              "    0    1\n",
              "0  10   67\n",
              "1  25  514"
            ],
            "text/html": [
              "\n",
              "  <div id=\"df-94518bae-e73a-4782-9dd1-ba48ea3b90ff\">\n",
              "    <div class=\"colab-df-container\">\n",
              "      <div>\n",
              "<style scoped>\n",
              "    .dataframe tbody tr th:only-of-type {\n",
              "        vertical-align: middle;\n",
              "    }\n",
              "\n",
              "    .dataframe tbody tr th {\n",
              "        vertical-align: top;\n",
              "    }\n",
              "\n",
              "    .dataframe thead th {\n",
              "        text-align: right;\n",
              "    }\n",
              "</style>\n",
              "<table border=\"1\" class=\"dataframe\">\n",
              "  <thead>\n",
              "    <tr style=\"text-align: right;\">\n",
              "      <th></th>\n",
              "      <th>0</th>\n",
              "      <th>1</th>\n",
              "    </tr>\n",
              "  </thead>\n",
              "  <tbody>\n",
              "    <tr>\n",
              "      <th>0</th>\n",
              "      <td>10</td>\n",
              "      <td>67</td>\n",
              "    </tr>\n",
              "    <tr>\n",
              "      <th>1</th>\n",
              "      <td>25</td>\n",
              "      <td>514</td>\n",
              "    </tr>\n",
              "  </tbody>\n",
              "</table>\n",
              "</div>\n",
              "      <button class=\"colab-df-convert\" onclick=\"convertToInteractive('df-94518bae-e73a-4782-9dd1-ba48ea3b90ff')\"\n",
              "              title=\"Convert this dataframe to an interactive table.\"\n",
              "              style=\"display:none;\">\n",
              "        \n",
              "  <svg xmlns=\"http://www.w3.org/2000/svg\" height=\"24px\"viewBox=\"0 0 24 24\"\n",
              "       width=\"24px\">\n",
              "    <path d=\"M0 0h24v24H0V0z\" fill=\"none\"/>\n",
              "    <path d=\"M18.56 5.44l.94 2.06.94-2.06 2.06-.94-2.06-.94-.94-2.06-.94 2.06-2.06.94zm-11 1L8.5 8.5l.94-2.06 2.06-.94-2.06-.94L8.5 2.5l-.94 2.06-2.06.94zm10 10l.94 2.06.94-2.06 2.06-.94-2.06-.94-.94-2.06-.94 2.06-2.06.94z\"/><path d=\"M17.41 7.96l-1.37-1.37c-.4-.4-.92-.59-1.43-.59-.52 0-1.04.2-1.43.59L10.3 9.45l-7.72 7.72c-.78.78-.78 2.05 0 2.83L4 21.41c.39.39.9.59 1.41.59.51 0 1.02-.2 1.41-.59l7.78-7.78 2.81-2.81c.8-.78.8-2.07 0-2.86zM5.41 20L4 18.59l7.72-7.72 1.47 1.35L5.41 20z\"/>\n",
              "  </svg>\n",
              "      </button>\n",
              "      \n",
              "  <style>\n",
              "    .colab-df-container {\n",
              "      display:flex;\n",
              "      flex-wrap:wrap;\n",
              "      gap: 12px;\n",
              "    }\n",
              "\n",
              "    .colab-df-convert {\n",
              "      background-color: #E8F0FE;\n",
              "      border: none;\n",
              "      border-radius: 50%;\n",
              "      cursor: pointer;\n",
              "      display: none;\n",
              "      fill: #1967D2;\n",
              "      height: 32px;\n",
              "      padding: 0 0 0 0;\n",
              "      width: 32px;\n",
              "    }\n",
              "\n",
              "    .colab-df-convert:hover {\n",
              "      background-color: #E2EBFA;\n",
              "      box-shadow: 0px 1px 2px rgba(60, 64, 67, 0.3), 0px 1px 3px 1px rgba(60, 64, 67, 0.15);\n",
              "      fill: #174EA6;\n",
              "    }\n",
              "\n",
              "    [theme=dark] .colab-df-convert {\n",
              "      background-color: #3B4455;\n",
              "      fill: #D2E3FC;\n",
              "    }\n",
              "\n",
              "    [theme=dark] .colab-df-convert:hover {\n",
              "      background-color: #434B5C;\n",
              "      box-shadow: 0px 1px 3px 1px rgba(0, 0, 0, 0.15);\n",
              "      filter: drop-shadow(0px 1px 2px rgba(0, 0, 0, 0.3));\n",
              "      fill: #FFFFFF;\n",
              "    }\n",
              "  </style>\n",
              "\n",
              "      <script>\n",
              "        const buttonEl =\n",
              "          document.querySelector('#df-94518bae-e73a-4782-9dd1-ba48ea3b90ff button.colab-df-convert');\n",
              "        buttonEl.style.display =\n",
              "          google.colab.kernel.accessAllowed ? 'block' : 'none';\n",
              "\n",
              "        async function convertToInteractive(key) {\n",
              "          const element = document.querySelector('#df-94518bae-e73a-4782-9dd1-ba48ea3b90ff');\n",
              "          const dataTable =\n",
              "            await google.colab.kernel.invokeFunction('convertToInteractive',\n",
              "                                                     [key], {});\n",
              "          if (!dataTable) return;\n",
              "\n",
              "          const docLinkHtml = 'Like what you see? Visit the ' +\n",
              "            '<a target=\"_blank\" href=https://colab.research.google.com/notebooks/data_table.ipynb>data table notebook</a>'\n",
              "            + ' to learn more about interactive tables.';\n",
              "          element.innerHTML = '';\n",
              "          dataTable['output_type'] = 'display_data';\n",
              "          await google.colab.output.renderOutput(dataTable, element);\n",
              "          const docLink = document.createElement('div');\n",
              "          docLink.innerHTML = docLinkHtml;\n",
              "          element.appendChild(docLink);\n",
              "        }\n",
              "      </script>\n",
              "    </div>\n",
              "  </div>\n",
              "  "
            ]
          },
          "metadata": {},
          "execution_count": 298
        }
      ]
    }
  ]
}